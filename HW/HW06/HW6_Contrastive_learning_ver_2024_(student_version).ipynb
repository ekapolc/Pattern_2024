{
  "cells": [
    {
      "cell_type": "markdown",
      "metadata": {
        "id": "dsAJghOVfTbo"
      },
      "source": [
        "# HW 6 Contrastive learning\n",
        "\n",
        "This assignment aims to have you learn how to modify loss functions and simultaneously process multiple feature vectors in both face verification and face recognition tasks by using the CelebA dataset as an example.\n",
        "\n",
        "CelebFaces Attributes Dataset (CelebA) is a large-scale face attributes dataset with more than 200K celebrity images, each with 40 attribute annotations, covering a wide range of pose variations and background clutter. The dataset is pruned so that the training time is appropriate for the assignment.\n",
        "\n",
        "This homework is divided into three parts:\n",
        "\n",
        "1. Face verification with contrastive loss\n",
        "2. Face verification with triplet loss\n",
        "3. Face verification with InfoNCE loss\n",
        "4. Face verification evaluation\n"
      ],
      "id": "dsAJghOVfTbo"
    },
    {
      "cell_type": "markdown",
      "metadata": {
        "id": "3UGQXBteijEv"
      },
      "source": [
        "# Import main libraries"
      ],
      "id": "3UGQXBteijEv"
    },
    {
      "cell_type": "code",
      "execution_count": null,
      "metadata": {
        "id": "137db656-d74d-47c9-b218-842905f7c27c"
      },
      "outputs": [],
      "source": [
        "import pandas as pd\n",
        "import matplotlib.pyplot as plt\n",
        "import numpy as np\n",
        "import os\n",
        "import os.path as osp\n",
        "from collections import defaultdict\n",
        "from PIL import Image\n",
        "import math\n",
        "from tqdm.notebook import tqdm\n",
        "import random\n",
        "\n",
        "import torch\n",
        "from torch import nn\n",
        "import torch.nn.functional as F\n",
        "from torch import optim\n",
        "import torchvision\n",
        "from torch.utils.data import Dataset, DataLoader\n",
        "from torchvision import transforms"
      ],
      "id": "137db656-d74d-47c9-b218-842905f7c27c"
    },
    {
      "cell_type": "code",
      "source": [
        "!pwd"
      ],
      "metadata": {
        "id": "AqdhUKmOt_f0"
      },
      "id": "AqdhUKmOt_f0",
      "execution_count": null,
      "outputs": []
    },
    {
      "cell_type": "markdown",
      "metadata": {
        "id": "X26GU80Pgbfi"
      },
      "source": [
        "#Download and unzip the dataset"
      ],
      "id": "X26GU80Pgbfi"
    },
    {
      "cell_type": "code",
      "execution_count": null,
      "metadata": {
        "id": "2slo_SG4R_8Z"
      },
      "outputs": [],
      "source": [
        "!pip install gdown"
      ],
      "id": "2slo_SG4R_8Z"
    },
    {
      "cell_type": "code",
      "execution_count": null,
      "metadata": {
        "id": "2bQ0hF8S-lZh"
      },
      "outputs": [],
      "source": [
        "!gdown --id 1_2oATmA0Jw61qs7I7kAG9Q2LHNZSQX7A"
      ],
      "id": "2bQ0hF8S-lZh"
    },
    {
      "cell_type": "code",
      "execution_count": null,
      "metadata": {
        "id": "otQpo3FNSDfQ"
      },
      "outputs": [],
      "source": [
        "!unzip /content/large_prepared_data.zip"
      ],
      "id": "otQpo3FNSDfQ"
    },
    {
      "cell_type": "markdown",
      "metadata": {
        "id": "f09116fc-7344-46e8-8acd-2707e131eefe"
      },
      "source": [
        "# Common dataset"
      ],
      "id": "f09116fc-7344-46e8-8acd-2707e131eefe"
    },
    {
      "cell_type": "code",
      "execution_count": null,
      "metadata": {
        "id": "2ccc5d44-3fc5-4c57-a046-0268afb3f9e2"
      },
      "outputs": [],
      "source": [
        "class FaceDataset(Dataset):\n",
        "  def __init__(self, root_dir, transform=None):\n",
        "    self.root_dir = root_dir\n",
        "    self.transform = transform\n",
        "    self.label_df = pd.read_csv(f'{self.root_dir}/label_df.csv')\n",
        "\n",
        "  def __len__(self):\n",
        "    return len(self.label_df)\n",
        "\n",
        "  def __getitem__(self, idx):\n",
        "    data = self.label_df.iloc[idx]\n",
        "    img = Image.open(f\"{self.root_dir}/{data['filename']}\").convert('RGB')\n",
        "    if self.transform is not None:\n",
        "        transformed_img = self.transform(img)\n",
        "    else:\n",
        "        transformed_img = None\n",
        "    identity = data['identity']\n",
        "    return transformed_img, identity, np.array(img)"
      ],
      "id": "2ccc5d44-3fc5-4c57-a046-0268afb3f9e2"
    },
    {
      "cell_type": "markdown",
      "source": [
        "This is an example to display a face image with its identity"
      ],
      "metadata": {
        "id": "KM0ClOoABafB"
      },
      "id": "KM0ClOoABafB"
    },
    {
      "cell_type": "code",
      "source": [
        "import matplotlib.pyplot as plt\n",
        "face_dataset = FaceDataset(root_dir='large_prepared_data/test')\n",
        "\n",
        "for idx in range(4):\n",
        "  _, identity, img = face_dataset[idx]\n",
        "  plt.title(f'identity = {identity}')\n",
        "  plt.imshow(img)\n",
        "  plt.show()"
      ],
      "metadata": {
        "id": "uI-7-bjRBZ-x"
      },
      "id": "uI-7-bjRBZ-x",
      "execution_count": null,
      "outputs": []
    },
    {
      "cell_type": "markdown",
      "metadata": {
        "id": "zJMwIaTri8Kc"
      },
      "source": [
        "# Part 1: Face verification with contrastive loss\n",
        "\n",
        "The objective of the face verification task is to validate whether the face image $x$ has the identity $y$ by comparing it to the face database of the claimed identity. If the face similarity score between $x$ and the face in the database of $y$ is above a certain threshold, the image is then verified; otherwise, the identity is rejected.\n",
        "\n",
        "In HW3, you have learned to calculate a similarity score based on compact image representation using a PCA / Fisher projection. Therefore, in this part, you will instead implement a more contemporary method by training the NN to propose a compact representation (feature vector) by using a Siamese network and contrastive loss (Chopra et al., 2005, https://ieeexplore.ieee.org/stamp/stamp.jsp?tp=&arnumber=1467314).\n",
        "\n",
        "In contrast to the classification task that forces the model to learn all possible classes of objects, the general idea of object verification is based on contrastive learning, a framework that teaches the model to distinguish the two objects from each other. For a contrastive loss, the model will receive a pair of image and then learn to recognize whether both of them has the same identity by encouraging the feature vector of the same identity to come closer and different one to move away from each other."
      ],
      "id": "zJMwIaTri8Kc"
    },
    {
      "cell_type": "markdown",
      "metadata": {
        "id": "MD43gAt3i_--"
      },
      "source": [
        "## 1.1 (TODO) Dataset and DataLoader\n",
        "\n",
        "First, we will start by writing a dataloader. The contrastive loss learns whether a pair of images have the same identity. Therefore, in this subsection, you have to write a dataloader that returns the tuple `(img1, img2, is_same_identity (bool))`.\n",
        "\n",
        "**File structure of this dataset**\n",
        "```\n",
        "- large_prepared_data/\n",
        "└───train/\n",
        "|    - {img1}.jpg\n",
        "|    - {img2}.jpg\n",
        "|    - label_df.csv\n",
        "└───val/\n",
        "|    - {img3}.jpg\n",
        "|    - {img4}.jpg\n",
        "|    - label_df.csv\n",
        "└───test/\n",
        "    - {img5}.jpg\n",
        "    - {img6}.jpg\n",
        "    - label_df.csv\n",
        "```\n",
        "**Note**\n",
        "\n",
        "label_df.csv has 2 columns that are the filename such as 001257.jpg and the identity such as 1691\n",
        "\n",
        "\n",
        "**Instructions**\n",
        "\n",
        "TODO 1-4: Fill in the missing code in the cells below. \\\n",
        "TODO 1-2: Organize the dataset for simple data access. \\\n",
        "TODO 3: Randomly select the datapoint from the dataset and format it to be ready for training. \\\n",
        "TODO 4: Initialize the dataloader."
      ],
      "id": "MD43gAt3i_--"
    },
    {
      "cell_type": "code",
      "execution_count": null,
      "metadata": {
        "id": "UHkd7H0P6Aal"
      },
      "outputs": [],
      "source": [
        "class SiameseDataset(Dataset):\n",
        "    def __init__(self, root_dir, transform=None):\n",
        "      '''\n",
        "        The dataset of siamese network\n",
        "        [Args]\n",
        "        - root_dir = root directory of the dataset\n",
        "        - transform = transformations for images\n",
        "      '''\n",
        "      np.random.seed(123)\n",
        "      random.seed(123)\n",
        "      self.root_dir = root_dir\n",
        "      self.transform = transform\n",
        "      label_df = pd.read_csv(f'{root_dir}/label_df.csv')\n",
        "      self.num_images = len(label_df)\n",
        "      label_df = label_df.groupby('identity')['filename'].apply(list).reset_index().rename({'filename': 'filenames'}, axis=1)\n",
        "      self.load_images_to_memory_(label_df)\n",
        "\n",
        "    def load_images_to_memory_(self, label_df):\n",
        "      '''\n",
        "        Load all images into memory\n",
        "        [Args]\n",
        "        - label_df = The dataframe containing the identities and the filenames of images\n",
        "      '''\n",
        "      # TODO 1: load images to `self.data` according to the below structure\n",
        "      # and `self.images`, `self.identities` following by idx\n",
        "      # Note: identity{i}: str, image{i}: PIL.Image (convert them to RGB as well)\n",
        "      # e.g. self.data = {\n",
        "      #   'identity1': [image1, image2],\n",
        "      #   'identity2': [image3, image4, image5],\n",
        "      # }\n",
        "      #\n",
        "      # identity{i}: str, image{i}: PIL.Image\n",
        "      self.data = None\n",
        "      self.images = None\n",
        "      self.identities = None\n",
        "\n",
        "      # TODO 2: keep all unique identities as list with `self.unique_identities`\n",
        "      # in `self.unique_identities` as a numpy array.\n",
        "      self.unique_identities = None\n",
        "\n",
        "    def __len__(self):\n",
        "      return self.num_images\n",
        "\n",
        "    def __getitem__(self, idx):\n",
        "      '''\n",
        "      Return a pair of image together with its label\n",
        "      [Args]\n",
        "      - idx: int\n",
        "      [Return]\n",
        "      - img1: torch.FloatTensor\n",
        "      - img2: torch.FloatTensor\n",
        "      - label: totch.FloatTensor = 1 (same class), 0 (different class)\n",
        "      '''\n",
        "      # TODO 3: randomly sample a pair of images\n",
        "      # Note: idx is even, it should return the same class pair and otherwise\n",
        "      # Please use label = 1 for the same class pair\n",
        "      # and label = 0 for the different class pair\n",
        "      img1 = None\n",
        "      img2 = None\n",
        "      label = None\n",
        "      return img1, img2, torch.from_numpy(np.array([label], dtype=np.float32))"
      ],
      "id": "UHkd7H0P6Aal"
    },
    {
      "cell_type": "code",
      "execution_count": null,
      "metadata": {
        "id": "67c96ce1-cff2-4f5a-a556-dd6b6e0ea67a"
      },
      "outputs": [],
      "source": [
        "img_size = 224\n",
        "train_transform = transforms.Compose([\n",
        "    transforms.Resize((256, 256)),\n",
        "    transforms.CenterCrop(img_size),\n",
        "    transforms.RandomHorizontalFlip(p=0.5),\n",
        "    transforms.ToTensor(),\n",
        "    transforms.Normalize(mean=[0.5319, 0.4399, 0.3929],\n",
        "                          std=[0.3076, 0.2898, 0.2907])\n",
        "])\n",
        "\n",
        "val_transform = transforms.Compose([\n",
        "    transforms.Resize((256, 256)),\n",
        "    transforms.CenterCrop(img_size),\n",
        "    transforms.ToTensor(),\n",
        "    transforms.Normalize(mean=[0.5319, 0.4399, 0.3929],\n",
        "                          std=[0.3076, 0.2898, 0.2907])\n",
        "])\n",
        "\n",
        "train_batch_size = 16\n",
        "val_batch_size = 16\n",
        "test_batch_size = 16\n",
        "\n",
        "\n",
        "# TODO 4: declare the datasets and the dataloaders\n",
        "train_siamese_dataset = None\n",
        "train_siamese_dataloader = None\n",
        "\n",
        "val_siamese_dataset = None\n",
        "val_siamese_dataloader = None\n",
        "\n",
        "test_siamese_dataset = None\n",
        "test_siamese_dataloader = None"
      ],
      "id": "67c96ce1-cff2-4f5a-a556-dd6b6e0ea67a"
    },
    {
      "cell_type": "markdown",
      "metadata": {
        "id": "wGPFIiutmtL0"
      },
      "source": [
        "## 1.2 (TODO) Siamese network\n",
        "\n",
        "After the dataloader is initialized, we then build a siamese network. Section 1.5 will explain how a siamese network works in full detail.\n",
        "\n",
        "Siamese network is a typical CNN that consists of three modules:\n",
        "\n",
        "1. A feature extractor (ResNet18) for extracting the feature map from an image.\n",
        "2. A global pooling for reducing the image dimension.\n",
        "3. A fully connected layer for compressing the feature vector\n",
        "\n",
        "Every fully connected layer is followed by ReLU activations.\n",
        "\n",
        "\n",
        "TODO 5: Implement a siamese network based on the description.\n",
        "\n",
        "**Note**\n",
        "1. You can use the ResNet18 from the `torchvision` library (How to use torchvision: https://pytorch.org/vision/stable/models.html)\n",
        "2. We will not use pretrained weights.\n",
        "\n"
      ],
      "id": "wGPFIiutmtL0"
    },
    {
      "cell_type": "markdown",
      "metadata": {
        "id": "2JKxqsN5lAyC"
      },
      "source": [
        "Figure 1 Siamese network\n",
        "\n",
        "![Screen Shot 2565-03-31 at 16.23.59.png](data:image/png;base64,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)"
      ],
      "id": "2JKxqsN5lAyC"
    },
    {
      "cell_type": "code",
      "execution_count": null,
      "metadata": {
        "id": "m33dF1s_xs7X"
      },
      "outputs": [],
      "source": [
        "class SiameseNetwork(nn.Module):\n",
        "  # TODO 5: implement the siamese network\n",
        "  def __init__(self):\n",
        "      super().__init__()\n",
        "\n",
        "  def extract_feature(self, x):\n",
        "      output = None\n",
        "      return output\n",
        "\n",
        "  def forward(self, input1, input2):\n",
        "      output1 = None\n",
        "      output2 = None\n",
        "      return output1, output2"
      ],
      "id": "m33dF1s_xs7X"
    },
    {
      "cell_type": "markdown",
      "metadata": {
        "id": "66c11c56-1df3-448d-82a5-50705a15bdee"
      },
      "source": [
        "## 1.3 (TODO) Constrastive loss\n",
        "A contrastive loss is a loss used to minimize the dissimilarity between two images by encouraging the feature vector of the same identity to come closer and different one further than a constant margin $m$ to move away from each other.\n",
        "\n",
        "\n",
        "The contrastive loss is mathematically defined as:\n"
      ],
      "id": "66c11c56-1df3-448d-82a5-50705a15bdee"
    },
    {
      "cell_type": "markdown",
      "source": [
        "$\n",
        "L\\ (contrastive\\ loss ) = \\begin{cases}\n",
        "                        d(r_1, r_2) & if\\ identity(r1) = identity(r2) \\\\\n",
        "                        max(0, m - d(r_1, r_2)) & if\\ identity(r1) \\neq identity(r2) \\\\\n",
        "                    \\end{cases}\n",
        "\\\n",
        "$"
      ],
      "metadata": {
        "id": "9PFUAE9EHRV-"
      },
      "id": "9PFUAE9EHRV-"
    },
    {
      "cell_type": "markdown",
      "source": [
        "where\n",
        "\n",
        "- $d(r_1, r_2)$ = euclidean distance between $r_1$ and $r_2$  \n",
        "- $m$ = margin\n",
        "- $identity(x)$ = the identity of x\n",
        "- $r_1$ = the feature vector of the first image\n",
        "- $r_2$ = the feature vector of the second image\n"
      ],
      "metadata": {
        "id": "74nTirgRHUB_"
      },
      "id": "74nTirgRHUB_"
    },
    {
      "cell_type": "markdown",
      "source": [
        "The term $d(r_1, r_2)$ is the distance between the two feature vectors. The contrastive loss minimizes the distance between the feature vectors of the same identity (positive pair) but maximizes the distance of the different identities (negative pair).\n",
        "\n",
        "The margin $m$ is used to prevent the loss from collapsing to a trivial solution. For instance, when $m = 0$, the model could achieve $L = 0$ just by exploiting the objective by setting $r_1 = r_2$, and the model, as a result, would learn nothing useful.\n",
        "\n",
        "**HINT**\n",
        "\n",
        "Many torch functions often have the same functionality as NumPy functions, even sharing the same function name. Therefore, if you are struggling with this part, you might write the loss using NumPy first and then convert it to the torch function (https://pytorch.org/docs/stable/torch.html) later.\n",
        "**Avoid using \"if statements\" to make the training faster. You have already learned many tricks that convert if statements into a single equation.**"
      ],
      "metadata": {
        "id": "13f-2hOwHUE1"
      },
      "id": "13f-2hOwHUE1"
    },
    {
      "cell_type": "markdown",
      "source": [
        "TODO 6: Implement a contrastive loss based on the description above."
      ],
      "metadata": {
        "id": "7LBgX_YHHiz4"
      },
      "id": "7LBgX_YHHiz4"
    },
    {
      "cell_type": "code",
      "execution_count": null,
      "metadata": {
        "id": "0515ff05-0f50-46c1-a572-fc66cc87c132"
      },
      "outputs": [],
      "source": [
        "import torch\n",
        "from torch import nn\n",
        "import torch.nn.functional as F\n",
        "\n",
        "class ContrastiveLoss(torch.nn.Module):\n",
        "  # TODO 6: implement the contrastive loss\n",
        "  def __init__(self, margin):\n",
        "    super().__init__()\n",
        "\n",
        "  def forward(self, output1, output2, label):\n",
        "    loss_contrastive = None\n",
        "    return loss_contrastive"
      ],
      "id": "0515ff05-0f50-46c1-a572-fc66cc87c132"
    },
    {
      "cell_type": "markdown",
      "metadata": {
        "id": "XgewKxUwjOC7"
      },
      "source": [
        "## 1.4 Initiazing the model, criterion, optimizer and scheduler"
      ],
      "id": "XgewKxUwjOC7"
    },
    {
      "cell_type": "code",
      "execution_count": null,
      "metadata": {
        "id": "5264e292-f6c5-4ddd-9113-4afb1b2ee27e"
      },
      "outputs": [],
      "source": [
        "siamese_margin = 2\n",
        "learning_rate = 1e-4\n",
        "\n",
        "siamese_model = SiameseNetwork()\n",
        "siamese_criterion = ContrastiveLoss(margin=siamese_margin)\n",
        "siamese_optimizer = optim.Adam(siamese_model.parameters(), lr=learning_rate)\n",
        "siamese_scheduler = optim.lr_scheduler.ReduceLROnPlateau(siamese_optimizer, 'min', patience=5, factor=0.1, min_lr=1e-8)"
      ],
      "id": "5264e292-f6c5-4ddd-9113-4afb1b2ee27e"
    },
    {
      "cell_type": "markdown",
      "metadata": {
        "id": "NQBlBgyEjX_Y"
      },
      "source": [
        "## 1.5 (TODO) Training loop\n",
        "\n",
        "The training procedure of a siamese network consists of the following steps:\n",
        "\n",
        "1. Forward pass the `img1`.\n",
        "2. Forward pass the `img2`.\n",
        "3. Calculate the distance between the feature vector of `img1` and `img2` $(d(r_1, r_2))$.\n",
        "4. Use the distance in step 3 as a loss and update the model.\n",
        "5. Repeat step 1-4 until satisfied.\n",
        "\n",
        "As you would notice, both first and second step shares the same network weights. Therefore, the word \"Siamese\" in the siamese network originates from the \"Siamese twins\" since the network performs two forward passes to compare whether the feature vectors have the same identity by using the same set of network parameters (shared parameters).\n",
        "\n",
        "TODO 7-8: Feed pairs of images to the network, compute contrastive loss to measure the dissimilarity of pairs of face images and update the network.\n",
        "\n",
        "TODO 9: Feed a pair of images from validation set to the network and compute the validation loss.\n",
        "\n",
        "**Trivia**\n",
        "\n",
        "The Siamese twin is a conjoined twin brother born in Siam who later move to the US (https://th.wikipedia.org/wiki/%E0%B8%AD%E0%B8%B4%E0%B8%99-%E0%B8%88%E0%B8%B1%E0%B8%99)."
      ],
      "id": "NQBlBgyEjX_Y"
    },
    {
      "cell_type": "code",
      "execution_count": null,
      "metadata": {
        "id": "dba5190b-8d9a-496a-8a6b-3920674d707a"
      },
      "outputs": [],
      "source": [
        "num_epochs = 20\n",
        "device = \"cuda\" if torch.cuda.is_available() else \"cpu\"\n",
        "siamese_model.to(device)\n",
        "\n",
        "os.makedirs('weights', exist_ok=True)\n",
        "best_weights_path = 'weights/best_siamese_weights.pth'\n",
        "\n",
        "train_losses = []\n",
        "val_losses = []\n",
        "min_val_loss = float('inf')\n",
        "\n",
        "for epoch in tqdm(range(num_epochs)):\n",
        "    siamese_model.train()\n",
        "    total_train_loss = 0\n",
        "\n",
        "\n",
        "    for img1, img2, label in tqdm(train_siamese_dataloader):\n",
        "\n",
        "        # TODO 7: feed data to model and compute loss\n",
        "        pass\n",
        "\n",
        "        # TODO 8: back propagate\n",
        "        pass\n",
        "\n",
        "        total_train_loss += train_loss.item()\n",
        "\n",
        "\n",
        "    current_train_loss = total_train_loss / len(train_siamese_dataloader)\n",
        "    train_losses.append(current_train_loss)\n",
        "\n",
        "    total_val_loss = 0\n",
        "    siamese_model.eval()\n",
        "    for val_img1, val_img2, val_label in val_siamese_dataloader:\n",
        "\n",
        "        # TODO 9: feed data to model and compute loss\n",
        "        pass\n",
        "\n",
        "        total_val_loss += val_loss.item()\n",
        "    current_val_loss = total_val_loss / len(val_siamese_dataloader)\n",
        "    val_losses.append(current_val_loss)\n",
        "    if current_val_loss < min_val_loss:\n",
        "        min_val_loss = current_val_loss\n",
        "        torch.save(siamese_model.state_dict(), best_weights_path)\n",
        "    print(f'Epoch {epoch+1} - Train loss = {current_train_loss:.4f} - Val loss = {current_val_loss:.4f} - best min_val_loss = {min_val_loss:.4f} - lr = {siamese_optimizer.param_groups[0][\"lr\"]:.8f}')\n",
        "    siamese_scheduler.step(current_val_loss)\n"
      ],
      "id": "dba5190b-8d9a-496a-8a6b-3920674d707a"
    },
    {
      "cell_type": "markdown",
      "metadata": {
        "id": "wVcL0z-5jcux"
      },
      "source": [
        "## 1.6 Visualization\n",
        "\n",
        "This visualization displays pairs of images together with the distance between those pairs."
      ],
      "id": "wVcL0z-5jcux"
    },
    {
      "cell_type": "code",
      "execution_count": null,
      "metadata": {
        "id": "WWx8gQNfLTUH"
      },
      "outputs": [],
      "source": [
        "# Showing images\n",
        "def imshow(img, text=None):\n",
        "    npimg = img.numpy()\n",
        "    plt.axis(\"off\")\n",
        "    if text:\n",
        "        plt.text(120, 8, text, style='italic',fontweight='bold',\n",
        "            bbox={'facecolor':'white', 'alpha':0.8, 'pad':10})\n",
        "\n",
        "    plt.imshow(np.transpose(npimg, (1, 2, 0)))\n",
        "    plt.show()\n",
        "\n",
        "\n",
        "siamese_model.load_state_dict(torch.load(best_weights_path))\n",
        "siamese_model.eval()\n",
        "\n",
        "test_img1s, test_img2s, test_labels = next(iter(test_siamese_dataloader))\n",
        "test_img1s, test_img2s, test_labels = test_img1s.to(device), test_img2s.to(device), test_labels.to(device)\n",
        "with torch.no_grad():\n",
        "    test_out1s, test_out2s = siamese_model(test_img1s, test_img2s)\n",
        "\n",
        "class UnNormalize(object):\n",
        "    def __init__(self, mean, std):\n",
        "        self.mean = mean\n",
        "        self.std = std\n",
        "\n",
        "    def __call__(self, tensor):\n",
        "        \"\"\"\n",
        "        Args:\n",
        "            tensor (Tensor): Tensor image of size (C, H, W) to be normalized.\n",
        "        Returns:\n",
        "            Tensor: Normalized image.\n",
        "        \"\"\"\n",
        "        for t, m, s in zip(tensor, self.mean, self.std):\n",
        "            t.mul_(s).add_(m)\n",
        "            # The normalize code -> t.sub_(m).div_(s)\n",
        "        return tensor\n",
        "\n",
        "unnormalizer = UnNormalize(mean=[0.5319, 0.4399, 0.3929],\n",
        "                          std=[0.3076, 0.2898, 0.2907])\n",
        "\n",
        "for test_out1, test_out2, test_img1, test_img2, test_label in zip(test_out1s, test_out2s, test_img1s, test_img2s, test_labels):\n",
        "    test_img1 = unnormalizer(test_img1.detach().cpu().unsqueeze(0))\n",
        "    test_img2 = unnormalizer(test_img2.detach().cpu().unsqueeze(0))\n",
        "    concatenated = torch.cat((test_img1, test_img2), 0)\n",
        "    distance = F.pairwise_distance(test_out1.unsqueeze(0), test_out2.unsqueeze(0))\n",
        "    imshow(torchvision.utils.make_grid(concatenated), f'Label = {int(test_label[0])}, Distance: {distance.item():.4f}')"
      ],
      "id": "WWx8gQNfLTUH"
    },
    {
      "cell_type": "markdown",
      "metadata": {
        "id": "497e15ff-38a7-4361-88ef-d6dd65a7cd4a"
      },
      "source": [
        "## 1.7 Plot loss history"
      ],
      "id": "497e15ff-38a7-4361-88ef-d6dd65a7cd4a"
    },
    {
      "cell_type": "code",
      "execution_count": null,
      "metadata": {
        "id": "29a56c72-d3fe-4eea-a366-9b2c53b731e6"
      },
      "outputs": [],
      "source": [
        "plt.plot(np.arange(1, len(train_losses)+1), train_losses, label='train loss')\n",
        "plt.plot(np.arange(1, len(val_losses)+1), val_losses, label='val loss')\n",
        "plt.legend()\n",
        "plt.show()"
      ],
      "id": "29a56c72-d3fe-4eea-a366-9b2c53b731e6"
    },
    {
      "cell_type": "markdown",
      "metadata": {
        "id": "65602b8a-41b1-4215-a2f7-79fae5176b46"
      },
      "source": [
        "## 1.8 (TODO) Plot t-SNE  \n",
        "\n",
        "After the training process is finished, we evaluate whether the learned representation is informative. In this task, embedding visualization is often performed to verify that the feature learned by the network is behaving as intended, i.e., feature vectors of the same identity should be close to each other and far away from other identities. Since the feature vector dimension is too high for a human to interpret, therefore, in this assignment, we use the t-SNE dimensionality reduction technique to compress the feature into a 2D space.\n",
        "\n",
        "\n",
        "**Instructions**\n",
        "\n",
        "TODO 10: Extract the feature vectors of the test set and store them as\n",
        "\n",
        "`embeddings`: torch.FloatTensor = feature vectors of all images in the test set\n",
        "\n",
        "`identities`: list or torch.Tensor or np.array = identities of all images in the test set\n",
        "\n",
        "**Hint**      \n",
        "Use `FaceDataset` that is imported at `Common Dataset` section\n",
        "\n",
        "**WARNING!!**\n",
        "Don't forget load its best weights and change to eval mode first"
      ],
      "id": "65602b8a-41b1-4215-a2f7-79fae5176b46"
    },
    {
      "cell_type": "code",
      "execution_count": null,
      "metadata": {
        "id": "d749b174-9138-4829-98c3-0fd94d517a02"
      },
      "outputs": [],
      "source": [
        "test_batch_size = 32\n",
        "\n",
        "# TODO 10: Extract the feature vectors of the test set and store them as\n",
        "# `embeddings`: torch.FloatTensor = feature vectors of all images in the test set\n",
        "# `identities`: list or torch.Tensor or np.array = identities of all images in the test set\n",
        "# Hint      => Use `FaceDataset` that is imported at `Common Dataset` section\n",
        "# WARNING!! => Don't forget load its best weights and change to eval mode first\n",
        "embeddings = None\n",
        "identities = None"
      ],
      "id": "d749b174-9138-4829-98c3-0fd94d517a02"
    },
    {
      "cell_type": "code",
      "execution_count": null,
      "metadata": {
        "id": "55f43bda-f6dc-4572-a191-32b993a010c9"
      },
      "outputs": [],
      "source": [
        "import time\n",
        "from sklearn.manifold import TSNE\n",
        "\n",
        "time_start = time.time()\n",
        "tsne = TSNE(n_components=2, verbose=1, perplexity=30, n_iter=3000)\n",
        "tsne_result = tsne.fit_transform(embeddings, identities)\n",
        "print('t-SNE done! Time elapsed: {} seconds'.format(time.time()-time_start))"
      ],
      "id": "55f43bda-f6dc-4572-a191-32b993a010c9"
    },
    {
      "cell_type": "code",
      "execution_count": null,
      "metadata": {
        "id": "ZO2KLU7QKMZ9"
      },
      "outputs": [],
      "source": [
        "import plotly.express as px\n",
        "\n",
        "# relabel to be easier to see in t-SNE visualization\n",
        "label = []\n",
        "idx = 0\n",
        "id2label = dict()\n",
        "for identity in identities:\n",
        "  identity = int(identity)\n",
        "  if identity not in id2label:\n",
        "    id2label[identity] = idx\n",
        "    idx += 1\n",
        "  label.append(id2label[identity])\n",
        "\n",
        "df_subset = pd.DataFrame({'label': label})\n",
        "\n",
        "df_subset['tsne-2d-one'] = tsne_result[:,0]\n",
        "df_subset['tsne-2d-two'] = tsne_result[:,1]\n",
        "\n",
        "fig = px.scatter(df_subset, x=\"tsne-2d-one\", y=\"tsne-2d-two\", color=\"label\", height=1000, width=1000)\n",
        "fig.show()"
      ],
      "id": "ZO2KLU7QKMZ9"
    },
    {
      "cell_type": "markdown",
      "metadata": {
        "id": "QJwia2CPxZtD"
      },
      "source": [
        "## 1.9 (TODO) Analyzing feature vector visualization result"
      ],
      "id": "QJwia2CPxZtD"
    },
    {
      "cell_type": "markdown",
      "metadata": {
        "id": "xmV3oQCSxou0"
      },
      "source": [
        "TODO 11: What could you say about the displayed visualization? Is the model working as expected?\n",
        "\n",
        "Answer here:"
      ],
      "id": "xmV3oQCSxou0"
    },
    {
      "cell_type": "markdown",
      "metadata": {
        "id": "386c6e7e-ecd4-4d35-a9a2-74dd9a8d7477"
      },
      "source": [
        "# Part 2: Face verification with triplet loss + center loss\n",
        "\n",
        "\n",
        "In contrast to contrastive loss which learns to distinguish whether the two images have the same identity, triplet loss is proposed as an alternative by introducing an anchor image as a third input. Triplet loss receives three inputs: anchor, positive pair, and negative pair. The positive pair is an image having the same identity as the anchor while the negative pair is the one with a different identity. The loss learns to minimize the distance between the anchor and positive pair, and maximize the distance between the anchor and the negative pair. Compared to contrastive loss, triplet loss offers more training stability and better model performance.\n",
        "\n",
        "Nevertheless, both contrastive and triplet loss also has some shortcomings as these losses only optimize on a pairwise level. This might result in feature vectors of the same identity taking the form of multiple small clusters scattering across the feature space since there is no explicit loss to bind them into a single group. Therefore, a center loss is proposed to mitigate this problem by encouraging the intra-class (same identity) feature vectors to come closer to their intra-class centroids.\n",
        "\n",
        "In this part, you are going to implement a face verification network by jointly training **three losses**: triplet, center, and cross-entropy loss.\n"
      ],
      "id": "386c6e7e-ecd4-4d35-a9a2-74dd9a8d7477"
    },
    {
      "cell_type": "markdown",
      "metadata": {
        "id": "uM8C7VTfjrFS"
      },
      "source": [
        "## 2.1 Dataset and DataLoader\n",
        "\n",
        "In this section, you are going to implement a dataloader for the combined loss.\n",
        "The dataloader should return the tuple `(anchor_img, pos_img, neg_img, anchor_label, pos_label, neg_label)`.\n",
        "\n",
        "- The positive image must have the same identity as the anchor image.\n",
        "- The negative image must have a different identity from the anchor image."
      ],
      "id": "uM8C7VTfjrFS"
    },
    {
      "cell_type": "code",
      "execution_count": null,
      "metadata": {
        "id": "3322f78f-95ef-492f-b565-1702796309ee"
      },
      "outputs": [],
      "source": [
        "class TripletDataset(Dataset):\n",
        "    def __init__(self, root_dir, transform=None):\n",
        "      np.random.seed(123)\n",
        "      random.seed(123)\n",
        "      self.root_dir = root_dir\n",
        "      self.transform = transform\n",
        "\n",
        "      label_df = pd.read_csv(f'{root_dir}/label_df.csv')\n",
        "      label_df = label_df.groupby('identity')['filename'].apply(list).reset_index().rename({'filename': 'filenames'}, axis=1)\n",
        "      self.images = []\n",
        "      self.labels = []\n",
        "      self.label2indices = dict()\n",
        "      self.load_images_to_memory_(label_df)\n",
        "\n",
        "    def load_images_to_memory_(self, label_df):\n",
        "      # load images and labels into memory\n",
        "      # We have to relabel from identities to 0,1,2,...,num_classes-1\n",
        "      # Relevant variables\n",
        "      # 1. `self.images` = PIL images  (Also convert it to RGB)\n",
        "      # 2. `self.label2indices` = the dictionary storing a label as a key and the indices of images as value\n",
        "      # 3. `self.labels` = labels of images (relabeled)\n",
        "      # Note: the index of images is from iterating over label_df\n",
        "      self.images = []\n",
        "      self.label2indices = defaultdict(list)\n",
        "      self.labels = []\n",
        "      img_idx = 0\n",
        "      label_idx = 0\n",
        "      identity2label = dict()\n",
        "      for idx in tqdm(range(len(label_df))):\n",
        "          row = label_df.iloc[idx]\n",
        "          identity, filenames = row['identity'], row['filenames']\n",
        "\n",
        "          if identity not in identity2label:\n",
        "            identity2label[identity] = label_idx\n",
        "            label_idx += 1\n",
        "\n",
        "          label = identity2label[identity]\n",
        "\n",
        "          for filename in filenames:\n",
        "              self.images.append(Image.open(f'{self.root_dir}/{filename}').convert('RGB'))\n",
        "              self.labels.append(label)\n",
        "              self.label2indices[label].append(img_idx)\n",
        "              img_idx += 1\n",
        "\n",
        "\n",
        "    def __len__(self):\n",
        "      return len(self.images)\n",
        "\n",
        "    def __getitem__(self, idx):\n",
        "      # generate an anchor image, a positive image and a negative image together with anchor_label\n",
        "      # anchor image is the image according to idx\n",
        "      # positive image is the image that has the same identity with the anchor image\n",
        "      # negative image is the image that has the different identity with the anchor image\n",
        "      anchor_img = self.images[idx]\n",
        "      anchor_label = self.labels[idx]\n",
        "\n",
        "      pos_idx = random.choice(self.label2indices[anchor_label])\n",
        "      while pos_idx == idx:\n",
        "        pos_idx = random.choice(self.label2indices[anchor_label])\n",
        "      pos_img = self.images[pos_idx]\n",
        "      pos_label = anchor_label\n",
        "      neg_label = random.choice(list(set(self.labels) - {anchor_label}))\n",
        "      neg_img = self.images[random.choice(self.label2indices[neg_label])]\n",
        "\n",
        "\n",
        "      # utilize `self.transform' to convert images to tensors\n",
        "      if self.transform is not None:\n",
        "          anchor_img = self.transform(anchor_img)\n",
        "          pos_img = self.transform(pos_img)\n",
        "          neg_img = self.transform(neg_img)\n",
        "\n",
        "\n",
        "      return anchor_img, pos_img, neg_img, anchor_label, pos_label, neg_label\n"
      ],
      "id": "3322f78f-95ef-492f-b565-1702796309ee"
    },
    {
      "cell_type": "code",
      "execution_count": null,
      "metadata": {
        "id": "1ceb51a1-7aad-4e69-af57-2eb8ffa8e1e5"
      },
      "outputs": [],
      "source": [
        "image_size = 224\n",
        "train_transform = transforms.Compose([\n",
        "    transforms.Resize((256, 256)),\n",
        "    transforms.CenterCrop(image_size),\n",
        "    transforms.RandomHorizontalFlip(p=0.5),\n",
        "    transforms.ToTensor(),\n",
        "    transforms.Normalize(mean=[0.5319, 0.4399, 0.3929],\n",
        "                          std=[0.3076, 0.2898, 0.2907])\n",
        "])\n",
        "\n",
        "val_transform = transforms.Compose([\n",
        "    transforms.Resize((256, 256)),\n",
        "    transforms.CenterCrop(image_size),\n",
        "    transforms.ToTensor(),\n",
        "    transforms.Normalize(mean=[0.5319, 0.4399, 0.3929],\n",
        "                          std=[0.3076, 0.2898, 0.2907])\n",
        "])\n",
        "\n",
        "train_batch_size = 16\n",
        "val_batch_size = 16\n",
        "test_batch_size = 16\n",
        "\n",
        "# declare the datasets and the dataloaders\n",
        "\n",
        "train_triplet_dataset = TripletDataset(root_dir='large_prepared_data/train', transform=train_transform)\n",
        "train_triplet_dataloader = DataLoader(train_triplet_dataset, batch_size=train_batch_size, shuffle=True, num_workers=2)\n",
        "\n",
        "val_triplet_dataset = TripletDataset(root_dir='large_prepared_data/val', transform=val_transform)\n",
        "val_triplet_dataloader = DataLoader(val_triplet_dataset, batch_size=val_batch_size, shuffle=False, num_workers=2)\n",
        "\n",
        "test_triplet_dataset = TripletDataset(root_dir='large_prepared_data/test', transform=val_transform)\n",
        "test_triplet_dataloader = DataLoader(test_triplet_dataset, batch_size=test_batch_size, shuffle=False, num_workers=2)"
      ],
      "id": "1ceb51a1-7aad-4e69-af57-2eb8ffa8e1e5"
    },
    {
      "cell_type": "markdown",
      "metadata": {
        "id": "Ra3hg6a9mml8"
      },
      "source": [
        "## 2.2 Triplet Network\n",
        "\n",
        "This network is a simpliflied version of strong baseline person re-identification task (ref: https://arxiv.org/abs/1903.07071)\n",
        "\n",
        "Triplet network consists of 3 modules\n",
        "1. Feature extractor (ResNet18) is for mapping an image to a feature map   \n",
        "2. Global pooling (Global average pooling or use flatten instead) is for converting a feature map to a feature vector\n",
        "3. Bottleneck (Batch normalization only scale not shift) is for the consistency of training between triplet loss and crossentropy because it is difficult to optimize those losses in embedding space at the same time\n",
        "4. Linear classifier is to classify who this face is\n",
        "\n",
        "**Note**\n",
        "1. ResNet18 can call via `torchvision` library (How to use torchvision: https://pytorch.org/vision/stable/models.html)\n",
        "2. ResNet18 we use will not load pretrained weights\n",
        "3. We will use ResNet18 only extracting feature maps.\n",
        "\n",
        "**Hint!**\n",
        "1. For global average pooling, read the documentation of `nn.AdaptiveAvgPool2d`\n",
        "2. For bottleneck, try `requires_grad_` method to stop calculating gradient at batch normalization\n",
        "\n",
        "\n",
        "Figure 3 Triplet network\n",
        "\n",
        "![Screen Shot 2565-04-01 at 12.23.31.png](data:image/png;base64,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)\n"
      ],
      "id": "Ra3hg6a9mml8"
    },
    {
      "cell_type": "code",
      "execution_count": null,
      "metadata": {
        "id": "ad2729d0-dd32-427d-ae84-832df3afb103"
      },
      "outputs": [],
      "source": [
        "def weights_init_kaiming(m):\n",
        "    classname = m.__class__.__name__\n",
        "    if m.affine:\n",
        "        nn.init.constant_(m.weight, 1.0)\n",
        "        nn.init.constant_(m.bias, 0.0)\n",
        "\n",
        "def weights_init_classifier(m):\n",
        "    classname = m.__class__.__name__\n",
        "    if classname.find('Linear') != -1:\n",
        "        nn.init.normal_(m.weight, std=0.001)\n",
        "        if m.bias:\n",
        "            nn.init.constant_(m.bias, 0.0)\n",
        "\n",
        "class TripletNetwork(nn.Module):\n",
        "  # implement the triplet network\n",
        "  def __init__(self, num_classes):\n",
        "    super(TripletNetwork, self).__init__()\n",
        "    resnet = torchvision.models.resnet18(pretrained=False)\n",
        "    self.conv = torch.nn.Sequential(*(list(resnet.children())[:-1]))\n",
        "    self.global_pool = nn.AdaptiveAvgPool2d(1)\n",
        "\n",
        "    self.bottleneck = nn.BatchNorm1d(512)\n",
        "    # no shift\n",
        "    self.bottleneck.bias.requires_grad_(False)\n",
        "\n",
        "    self.classifier = nn.Linear(512, num_classes, bias=False)\n",
        "\n",
        "    self.bottleneck.apply(weights_init_kaiming)\n",
        "    self.classifier.apply(weights_init_classifier)\n",
        "\n",
        "  def extract_feature(self, x):\n",
        "    x = self.conv(x)\n",
        "\n",
        "    global_feat = self.global_pool(x)\n",
        "    global_feat = global_feat.view(global_feat.size(0), -1)\n",
        "\n",
        "    feat = self.bottleneck(global_feat)\n",
        "\n",
        "    if not self.training:\n",
        "      return feat\n",
        "\n",
        "    cls_score = self.classifier(feat)\n",
        "\n",
        "    return global_feat, cls_score\n",
        "\n",
        "  def forward(self, anchor_img, pos_img, neg_img):\n",
        "    anchor_feat, anchor_score = self.extract_feature(anchor_img)\n",
        "    pos_feat, pos_score = self.extract_feature(pos_img)\n",
        "    neg_feat, neg_score = self.extract_feature(neg_img)\n",
        "\n",
        "    feats = torch.cat((anchor_feat, pos_feat, neg_feat))\n",
        "    scores = torch.cat((anchor_score, pos_score, neg_score))\n",
        "    return anchor_feat, pos_feat, neg_feat, feats, scores"
      ],
      "id": "ad2729d0-dd32-427d-ae84-832df3afb103"
    },
    {
      "cell_type": "markdown",
      "metadata": {
        "id": "wFAj46IikHjI"
      },
      "source": [
        "## 2.3 Triplet loss\n",
        "\n",
        "Triplet loss uses the same concept as contrastive loss that is the anchor image will pull the positive one closer and push the negative one further than the constant margin away. Hence, we have sampled three images to compute it.\n",
        "The three images consist of:\n",
        "1. an anchor image = an initial image\n",
        "2. a positive image = the image having the same identity as the anchor image\n",
        "3. a negative image = the image having a different identity from the anchor image\n",
        "\n",
        "The triplet loss is mathematically defined as:\n",
        "\n",
        "$L_{Triplet} = max(0, m + d(r_a, r_p) - d(r_a, r_n))$\n",
        "\n",
        "where\n",
        "- $d(r_1, r_2)$ = euclidean distance between $r_1$ and $r_2$\n",
        "- $m$ = margin\n",
        "- $r_a$ = the feature vector of the anchor image\n",
        "- $r_p$ = the feature vector of the positive image\n",
        "- $r_n$ = the feature vector of the negative image\n",
        "\n",
        "The loss aims to minimize $d(r_a, r_p)$ while maximizing $d(r_a, r_n)$ at the same time.\n",
        "\n",
        "The margin $m$ is used to prevent the loss from collapsing to a trivial solution. For instance, when $m = 0$, the model could achieve $L = 0$ just by exploiting the objective by setting $r_a = r_p = r_n$, and the model, as a result, would learn nothing useful.\n"
      ],
      "id": "wFAj46IikHjI"
    },
    {
      "cell_type": "code",
      "execution_count": null,
      "metadata": {
        "id": "1e2558d1-dee4-4c96-b0c9-2cc958d5137b"
      },
      "outputs": [],
      "source": [
        "class TripletLoss(nn.Module):\n",
        "  # implement the triplet loss\n",
        "  def __init__(self, margin=2.0):\n",
        "    super(TripletLoss, self).__init__()\n",
        "    self.margin = margin\n",
        "    self.euclidean_dist_fn = nn.PairwiseDistance(p=2)\n",
        "\n",
        "  def forward(self, anchor_img, pos_img, neg_img):\n",
        "    pos_dist = self.euclidean_dist_fn(anchor_img, pos_img)\n",
        "    neg_dist = self.euclidean_dist_fn(anchor_img, neg_img)\n",
        "    return torch.mean(torch.relu(pos_dist - neg_dist + self.margin))"
      ],
      "id": "1e2558d1-dee4-4c96-b0c9-2cc958d5137b"
    },
    {
      "cell_type": "markdown",
      "metadata": {
        "id": "l73c93qqkPJt"
      },
      "source": [
        "## 2.4 Center loss\n",
        "Reference: https://ydwen.github.io/papers/WenECCV16.pdf\n",
        "\n",
        "**Definition**\n",
        "\n",
        "Centroid: a representative of each class. There are several ways to select a representative, one way to do this is to take an average on those embeddings.\n",
        "\n",
        "**Concept**\n",
        "\n",
        "Center loss enforces the intra-class feature vectors to come closer to the centroid of their class so that all feature vectors of the same identity are clustered around a single centroid. Since the model is updated after each iteration, the centroids should also be updated accordingly. However, re-calculating the centroids by averaging the feature vectors for each class every iteration is computational-extensive on a large scale. Therefore, the centroid is instead learned from the representative of each class from the sampled data.\n",
        "\n",
        "**Implementation detail**\n",
        "\n",
        "In `__init__` method\n",
        "  1. For simplicity, we will store the centroids in the class `CenterLoss`. Therefore, you have to initialize the centroids as a random tensor with the size of `(num_classes, feature_dimension)`. The tensor has to be set with `nn.Paramater` so that the gradient could be calculated (ref: https://pytorch.org/docs/stable/generated/torch.nn.parameter.Parameter.html).\n",
        "\n",
        "In the `forward` method\n",
        "  1. Calculate the distance between the feature vector and its center with a squared Euclidean distance\n",
        "  2. Clip the value in each element to be not greater than 1e+12, not lower than 1e-12, and sum them  \n",
        "  3. Normalize the loss with its batch size\n",
        "\n",
        "**Center loss equation**\n",
        "\n",
        "$L_{Center} = \\frac{1}{B}\\sum_{j=1}^{B}||f_{j} - c_{y_j}||_2^2$\n",
        "\n",
        "where\n",
        "- $f_{j}$ = a feature vector before fed into the bottleneck at index $j$\n",
        "- $c_{y_j}$ = a center of the class corresponded to the index $j$\n",
        "- B = batch size\n",
        "\n",
        "The center loss minimized the distance between the feature vector and the centroid of the corresponded identity.\n",
        "\n",
        "**Note**\n",
        "1. At `__init__` method in step 1. Do not forget to transfer the parameters to GPU with `.cuda()` otherwise, it will not utilize GPU on this part.\n",
        "2. Clip the magnitude of the loss at the final stage before updating both upper bound and lower bound to avoid vanishing / exploding gradients.\n",
        "\n",
        "**Hint**\n",
        "1. In step 2 of the `forward` method, you should use `torch.clamp` (ref: https://pytorch.org/docs/stable/generated/torch.clamp.html) to clip the lower bound and the upper bound as you want."
      ],
      "id": "l73c93qqkPJt"
    },
    {
      "cell_type": "code",
      "execution_count": null,
      "metadata": {
        "id": "eTlwEU2VkN8S"
      },
      "outputs": [],
      "source": [
        "class CenterLoss(nn.Module):\n",
        "  def __init__(self, num_classes, feat_dim):\n",
        "    super(CenterLoss, self).__init__()\n",
        "    self.device = 'cuda' if torch.cuda.is_available() else 'cpu'\n",
        "    self.num_classes = num_classes\n",
        "    self.feat_dim = feat_dim\n",
        "    self.centers = nn.Parameter(torch.randn(self.num_classes, self.feat_dim).to(self.device))\n",
        "\n",
        "  def forward(self, x, labels):\n",
        "    batch_size = x.size(0)\n",
        "    # compute squared euclidean distance\n",
        "    distmat = torch.pow(x, 2).sum(dim=1, keepdim=True).expand(batch_size, self.num_classes) + \\\n",
        "      torch.pow(self.centers, 2).sum(dim=1, keepdim=True).expand(self.num_classes, batch_size).t()\n",
        "    distmat.addmm_(1, -2, x, self.centers.t())\n",
        "\n",
        "    classes = torch.arange(self.num_classes).long().to(self.device)\n",
        "    labels = labels.unsqueeze(1).expand(batch_size, self.num_classes)\n",
        "    mask = labels.eq(classes.expand(batch_size, self.num_classes))\n",
        "\n",
        "    dist = distmat * mask.float()\n",
        "    loss = dist.clamp(min=1e-12, max=1e+12).sum() / batch_size\n",
        "    return loss"
      ],
      "id": "eTlwEU2VkN8S"
    },
    {
      "cell_type": "code",
      "execution_count": null,
      "metadata": {
        "id": "1oDDqWxZDU60"
      },
      "outputs": [],
      "source": [
        "center_loss_fn = CenterLoss(80, 512)\n",
        "feats = torch.randn(32,512).cuda()\n",
        "labels = torch.randn(32).cuda()\n",
        "center_loss_fn(feats, labels)"
      ],
      "id": "1oDDqWxZDU60"
    },
    {
      "cell_type": "markdown",
      "metadata": {
        "id": "o9AljvJukSD3"
      },
      "source": [
        "## 2.5 Declare model, criterions, optimizers, hyparameters and scheduler"
      ],
      "id": "o9AljvJukSD3"
    },
    {
      "cell_type": "code",
      "execution_count": null,
      "metadata": {
        "id": "21cfe848-591f-4171-8d42-fe9a69a9d4fb"
      },
      "outputs": [],
      "source": [
        "# for triplet loss\n",
        "triplet_margin = 3.0\n",
        "\n",
        "# get the number of classes to construct a linear classifier and the parameters in center loss\n",
        "num_classes = len(set(train_triplet_dataset.labels))\n",
        "print(f'num_classes = {num_classes}')\n",
        "\n",
        "# declare the triplet model and the triplet criterion\n",
        "triplet_model = TripletNetwork(num_classes)\n",
        "triplet_criterion = TripletLoss(margin=triplet_margin)\n",
        "\n",
        "triplet_optimizer = optim.Adam(triplet_model.parameters(), lr=5e-4)\n",
        "triplet_scheduler = optim.lr_scheduler.ReduceLROnPlateau(triplet_optimizer, 'min', patience=4, factor=0.1, min_lr=1e-8)\n",
        "\n",
        "# declare cross entropy loss\n",
        "crossentropy_criterion = nn.CrossEntropyLoss()\n",
        "\n",
        "# For center loss\n",
        "# declare the center criterion\n",
        "triplet_center_criterion = CenterLoss(num_classes, 512)\n",
        "\n",
        "triplet_center_optimizer = optim.Adam(triplet_center_criterion.parameters(), lr=0.5)\n",
        "triplet_center_loss_weight = 5e-2"
      ],
      "id": "21cfe848-591f-4171-8d42-fe9a69a9d4fb"
    },
    {
      "cell_type": "markdown",
      "metadata": {
        "id": "83110db0-a586-4d14-862b-1a9eddb41895"
      },
      "source": [
        "## 2.6 Training loop\n"
      ],
      "id": "83110db0-a586-4d14-862b-1a9eddb41895"
    },
    {
      "cell_type": "markdown",
      "source": [
        "The figure below shows how the center loss is updated in the original paper. $L_s$ $L_c$, $W$, $\\theta_c$ and $c_j$ stand for classification loss, center loss, classification head's weight, CNN weight, and centroid of the class $j$, respectively. Line 6 shows how centroids are updated."
      ],
      "metadata": {
        "id": "kQ_DmZNpJEpL"
      },
      "id": "kQ_DmZNpJEpL"
    },
    {
      "cell_type": "markdown",
      "source": [
        "![image.png](data:image/png;base64,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)"
      ],
      "metadata": {
        "id": "8-Gl3sjJJErw"
      },
      "id": "8-Gl3sjJJErw"
    },
    {
      "cell_type": "markdown",
      "source": [
        "**Joint loss equation**\n",
        "\n",
        "$L_{Joint} = L_{ID} + L_{Triplet} + \\beta L_{Center}$\n",
        "\n",
        "where\n",
        "- $L_{Joint}$ = joint loss\n",
        "- $L_{ID}$ = identity loss (cross entropy loss in this implementation)\n",
        "- $L_{Triplet}$ = triplet loss\n",
        "- $L_{Center}$ = center loss\n",
        "- $\\beta$ = center loss weights (affects only the triplet network, not center update)"
      ],
      "metadata": {
        "id": "ObXXL7ZIJEur"
      },
      "id": "ObXXL7ZIJEur"
    },
    {
      "cell_type": "markdown",
      "source": [
        "The training procedure of the triplet network consists of the following steps:\n",
        "\n",
        "1. Forward pass the `anchor_img`\n",
        "2. Forward pass the `positive_img`  \n",
        "3. Forward pass the `negative_img`\n",
        "4. Calculate the distance between the feature vectors of `anchor_img`, `positive_img` and `negative_img` and calculate a triplet loss ($L_{Triplet}$).\n",
        "5. Calculate the classification loss ($L_{ID}$).\n",
        "6. Calculate the center loss ($L_{Center}$).\n",
        "7. Scale the center loss with the predetermined weight ($\\beta$) (only used to update the triplet network not to update the centroids).\n",
        "8. Sum the losses from steps 4-7 and update the triplet network. (Line 3-5)\n",
        "9. Rescale the gradients with $\\frac{1}{\\beta}$ at the loss in step 7 and update the centroids. (Line 6-7)\n",
        "10. Repeat steps 1-9 till converge\n",
        "\n",
        "As you would notice, steps 1- 3 share the same model weight for feature extraction. Thus, the word \"triplet\" in triplet loss originates in a similar fashion as the \"Siamese twins\" but this loss function utilizes three feature vectors simultaneously instead of two.\n",
        "\n",
        "\n",
        "**Hint**\n",
        "\n",
        "1. At the gradient rescaling for the centroids, we should iterate parameters in center loss first with `.parameters()` and adjust the property of each parameter with `.grad.data`\n",
        "\n"
      ],
      "metadata": {
        "id": "VokXP8TPI-LJ"
      },
      "id": "VokXP8TPI-LJ"
    },
    {
      "cell_type": "code",
      "execution_count": null,
      "metadata": {
        "id": "89a22552-14ef-42d6-9c2f-08f8ade4d406"
      },
      "outputs": [],
      "source": [
        "num_epochs = 20\n",
        "device = \"cuda\" if torch.cuda.is_available() else \"cpu\"\n",
        "\n",
        "os.makedirs('weights', exist_ok=True)\n",
        "best_weights_path = 'weights/best_triplet_weights.pth'\n",
        "triplet_model.to(device)\n",
        "min_val_loss = float('inf')\n",
        "\n",
        "train_losses = []\n",
        "train_triplet_losses = []\n",
        "train_crossentropy_losses = []\n",
        "train_center_losses = []\n",
        "\n",
        "val_losses = []\n",
        "val_triplet_losses = []\n",
        "\n",
        "for epoch in tqdm(range(num_epochs)):\n",
        "    triplet_model.train()\n",
        "    total_train_loss = 0\n",
        "    total_train_triplet_loss = 0\n",
        "    total_train_crossentropy_loss = 0\n",
        "    total_train_center_loss = 0\n",
        "    for anchor_img, pos_img, neg_img, anchor_label, pos_label, neg_label in tqdm(train_triplet_dataloader):\n",
        "\n",
        "        # feed data to the triplet model and compute triplet loss\n",
        "        anchor_img, pos_img, neg_img = anchor_img.to(device), pos_img.to(device), neg_img.to(device)\n",
        "        anchor_label, pos_label, neg_label = anchor_label.to(device), pos_label.to(device), neg_label.to(device)\n",
        "        labels = torch.cat((anchor_label, pos_label, neg_label))\n",
        "\n",
        "        anchor_feat, pos_feat, neg_feat, feats, scores = triplet_model(anchor_img, pos_img, neg_img)\n",
        "        train_triplet_loss = triplet_criterion(anchor_feat, pos_feat, neg_feat)\n",
        "\n",
        "        # compute cross entropy loss\n",
        "        train_crossentropy_loss = crossentropy_criterion(scores, labels)\n",
        "\n",
        "\n",
        "        # compute center loss\n",
        "        train_center_loss = triplet_center_loss_weight * triplet_center_criterion(feats, labels)\n",
        "\n",
        "\n",
        "        train_loss = train_triplet_loss + train_crossentropy_loss + train_center_loss\n",
        "        total_train_loss += train_loss.item()\n",
        "        total_train_triplet_loss += train_triplet_loss.item()\n",
        "        total_train_crossentropy_loss += train_crossentropy_loss.item()\n",
        "        total_train_center_loss += train_center_loss.item()\n",
        "\n",
        "        # set zero gradients at two optimizers\n",
        "        triplet_optimizer.zero_grad()\n",
        "        triplet_center_optimizer.zero_grad()\n",
        "\n",
        "        # back propagate at triplet network and step the main optimizer\n",
        "        train_loss.backward()\n",
        "        triplet_optimizer.step()\n",
        "\n",
        "        # rescale gradients of centers because `triplet_center_loss_weight` should not affect to learning the centers\n",
        "        # and step the center optimizer\n",
        "        for param in triplet_center_criterion.parameters():\n",
        "          param.grad.data *= (1. / triplet_center_loss_weight)\n",
        "        triplet_center_optimizer.step()\n",
        "\n",
        "    current_train_loss = total_train_loss / len(train_triplet_dataloader)\n",
        "    current_train_triplet_loss = total_train_triplet_loss / len(train_triplet_dataloader)\n",
        "    current_train_crossentropy_loss = total_train_crossentropy_loss / len(train_triplet_dataloader)\n",
        "    current_train_center_loss = total_train_center_loss / len(train_triplet_dataloader)\n",
        "    train_losses.append(current_train_loss)\n",
        "    train_triplet_losses.append(current_train_triplet_loss)\n",
        "    train_crossentropy_losses.append(current_train_crossentropy_loss)\n",
        "    train_center_losses.append(current_train_center_loss)\n",
        "\n",
        "    total_val_loss = 0\n",
        "    total_val_triplet_loss = 0\n",
        "    triplet_model.eval()\n",
        "    for val_anchor_img, val_pos_img, val_neg_img, _, _, _ in val_triplet_dataloader:\n",
        "\n",
        "      # feed data to the triplet model and compute triplet loss\n",
        "      val_anchor_img, val_pos_img, val_neg_img = val_anchor_img.to(device), val_pos_img.to(device), val_neg_img.to(device)\n",
        "      with torch.no_grad():\n",
        "          val_anchor_feat = triplet_model.extract_feature(val_anchor_img)\n",
        "          val_pos_feat = triplet_model.extract_feature(val_pos_img)\n",
        "          val_neg_feat = triplet_model.extract_feature(val_neg_img)\n",
        "          val_triplet_loss = triplet_criterion(val_anchor_feat, val_pos_feat, val_neg_feat)\n",
        "\n",
        "      val_loss = val_triplet_loss\n",
        "      total_val_loss += val_loss.item()\n",
        "      total_val_triplet_loss += val_triplet_loss.item()\n",
        "    current_val_loss = total_val_loss / len(val_triplet_dataloader)\n",
        "    current_val_triplet_loss = total_val_triplet_loss / len(val_triplet_dataloader)\n",
        "    val_losses.append(current_val_loss)\n",
        "    val_triplet_losses.append(current_val_triplet_loss)\n",
        "\n",
        "    if current_val_loss < min_val_loss:\n",
        "        min_val_loss = current_val_loss\n",
        "        torch.save(triplet_model.state_dict(), best_weights_path)\n",
        "    print(f'Epoch {epoch+1} - Train loss = {current_train_loss:.4f} - Train triplet loss = {current_train_triplet_loss:.4f} - Train crossentropy loss = {current_train_crossentropy_loss:.4f}  - Train center loss = {current_train_center_loss:.4f} - Val loss = {current_val_loss:.4f} - Val triplet loss = {current_val_triplet_loss:.4f} - best min_val_loss = {min_val_loss:.4f} - lr = {triplet_optimizer.param_groups[0][\"lr\"]:.8f}')\n",
        "    triplet_scheduler.step(current_val_loss)"
      ],
      "id": "89a22552-14ef-42d6-9c2f-08f8ade4d406"
    },
    {
      "cell_type": "markdown",
      "metadata": {
        "id": "kRMJJIrzOUc2"
      },
      "source": [
        "## 2.7 Visualization\n",
        "\n",
        "The visualization below displays an anchor, positive, and negative image and their respective distance."
      ],
      "id": "kRMJJIrzOUc2"
    },
    {
      "cell_type": "code",
      "execution_count": null,
      "metadata": {
        "id": "FT7EV6B-OT1i"
      },
      "outputs": [],
      "source": [
        "# Showing images\n",
        "def imshow(img, text=None):\n",
        "    npimg = img.numpy()\n",
        "    plt.axis(\"off\")\n",
        "    if text:\n",
        "        plt.text(20, 8, text, style='italic',fontweight='bold',\n",
        "            bbox={'facecolor':'white', 'alpha':0.8, 'pad':10})\n",
        "\n",
        "    plt.imshow(np.transpose(npimg, (1, 2, 0)))\n",
        "    plt.show()\n",
        "\n",
        "best_weights_path = 'weights/best_triplet_weights.pth'\n",
        "triplet_model.to(device)\n",
        "triplet_model.load_state_dict(torch.load(best_weights_path))\n",
        "triplet_model.eval()\n",
        "\n",
        "test_anchor_imgs, test_pos_imgs, test_neg_imgs, test_anchor_ids, _, _ = next(iter(test_triplet_dataloader))\n",
        "test_anchor_imgs, test_pos_imgs, test_neg_imgs = test_anchor_imgs.to(device), test_pos_imgs.to(device), test_neg_imgs.to(device)\n",
        "with torch.no_grad():\n",
        "    test_anchor_feats = triplet_model.extract_feature(test_anchor_imgs)\n",
        "    test_pos_feats = triplet_model.extract_feature(test_pos_imgs)\n",
        "    test_neg_feats = triplet_model.extract_feature(test_neg_imgs)\n",
        "\n",
        "class UnNormalize(object):\n",
        "    def __init__(self, mean, std):\n",
        "        self.mean = mean\n",
        "        self.std = std\n",
        "\n",
        "    def __call__(self, tensor):\n",
        "        \"\"\"\n",
        "        Args:\n",
        "            tensor (Tensor): Tensor image of size (C, H, W) to be normalized.\n",
        "        Returns:\n",
        "            Tensor: Normalized image.\n",
        "        \"\"\"\n",
        "        for t, m, s in zip(tensor, self.mean, self.std):\n",
        "            t.mul_(s).add_(m)\n",
        "            # The normalize code -> t.sub_(m).div_(s)\n",
        "        return tensor\n",
        "\n",
        "unnormalizer = UnNormalize(mean=[0.5319, 0.4399, 0.3929],\n",
        "                          std=[0.3076, 0.2898, 0.2907])\n",
        "\n",
        "zip_test_data = zip(test_anchor_feats, test_pos_feats, test_neg_feats, test_anchor_imgs, test_pos_imgs, test_neg_imgs)\n",
        "for test_anchor_feat, test_pos_feat, test_neg_feat, test_anchor_img, test_pos_img, test_neg_img in zip_test_data:\n",
        "    test_anchor_img = unnormalizer(test_anchor_img.detach().cpu().unsqueeze(0))\n",
        "    test_pos_img = unnormalizer(test_pos_img.detach().cpu().unsqueeze(0))\n",
        "    test_neg_img = unnormalizer(test_neg_img.detach().cpu().unsqueeze(0))\n",
        "    concatenated = torch.cat((test_anchor_img, test_pos_img, test_neg_img), 0)\n",
        "    anc_pos_distance = F.pairwise_distance(test_anchor_feat.unsqueeze(0), test_pos_feat.unsqueeze(0))\n",
        "    anc_neg_distance = F.pairwise_distance(test_anchor_feat.unsqueeze(0), test_neg_feat.unsqueeze(0))\n",
        "    imshow(torchvision.utils.make_grid(concatenated), f'Anc-Pos Distance: {anc_pos_distance.item():.4f}, Anc-Neg Distance: {anc_neg_distance.item():.4f}')"
      ],
      "id": "FT7EV6B-OT1i"
    },
    {
      "cell_type": "markdown",
      "metadata": {
        "id": "11e7708e-8e18-4e88-a00c-4651ab3e6b0d"
      },
      "source": [
        "## 2.8 Plot loss history"
      ],
      "id": "11e7708e-8e18-4e88-a00c-4651ab3e6b0d"
    },
    {
      "cell_type": "code",
      "execution_count": null,
      "metadata": {
        "id": "b9b96cb8-3dc8-430d-bdd8-d5be5c833d63"
      },
      "outputs": [],
      "source": [
        "import matplotlib.pyplot as plt\n",
        "plt.plot(np.arange(1, len(train_losses)+1), train_losses, label='train loss')\n",
        "plt.plot(np.arange(1, len(val_losses)+1), val_losses, label='val loss')\n",
        "plt.legend()\n",
        "plt.show()"
      ],
      "id": "b9b96cb8-3dc8-430d-bdd8-d5be5c833d63"
    },
    {
      "cell_type": "code",
      "execution_count": null,
      "metadata": {
        "id": "XwduIZ8GvXdy"
      },
      "outputs": [],
      "source": [
        "import matplotlib.pyplot as plt\n",
        "plt.plot(np.arange(1, len(train_losses)+1), train_triplet_losses, label='train triplet loss')\n",
        "plt.plot(np.arange(1, len(val_losses)+1), val_triplet_losses, label='val triplet loss')\n",
        "plt.legend()\n",
        "plt.show()"
      ],
      "id": "XwduIZ8GvXdy"
    },
    {
      "cell_type": "code",
      "execution_count": null,
      "metadata": {
        "id": "gS54oq92vWtl"
      },
      "outputs": [],
      "source": [
        "import matplotlib.pyplot as plt\n",
        "plt.plot(np.arange(1, len(train_losses)+1), train_center_losses, label='train center loss')\n",
        "plt.legend()\n",
        "plt.show()"
      ],
      "id": "gS54oq92vWtl"
    },
    {
      "cell_type": "markdown",
      "metadata": {
        "id": "25cbfb3d-56bb-4ae7-8e61-d313173ca36f"
      },
      "source": [
        "## 2.9 (TODO) Plot t-SNE\n",
        "\n",
        "This section is similar to section 1.8 but the network is instead optimized using a combined triplet, center, and cross-entropy loss.\n",
        "\n",
        "**Instructions**\n",
        "\n",
        "TODO 12: Extract the feature vectors of the test set and store them as\n",
        "\n",
        "`embeddings`: torch.FloatTensor = feature vectors of all images in the test set\n",
        "\n",
        "`identities`: list or torch.Tensor or np.array = identities of all images in the test set\n",
        "\n",
        "**Hint**      \n",
        "Use `FaceDataset` that is imported at `Common Dataset` section\n",
        "\n",
        "**WARNING!!**\n",
        "Don't forget load its best weights and change to eval mode first"
      ],
      "id": "25cbfb3d-56bb-4ae7-8e61-d313173ca36f"
    },
    {
      "cell_type": "code",
      "execution_count": null,
      "metadata": {
        "id": "e3bd8317-7dbb-4887-bdee-aa2a0c99ee97"
      },
      "outputs": [],
      "source": [
        "test_batch_size = 32\n",
        "\n",
        "# TODO 12: Extract the feature vectors of the test set and store them as\n",
        "# `embeddings`: torch.FloatTensor = feature vectors of all images in the test set\n",
        "# `identities`: list or torch.Tensor or np.array = identities of all images in the test set\n",
        "# Hint      => Use `FaceDataset` that is imported at `Common Dataset` section\n",
        "# WARNING!! => Don't forget load its best weights and change to eval mode first\n",
        "embeddings = None\n",
        "identities = None"
      ],
      "id": "e3bd8317-7dbb-4887-bdee-aa2a0c99ee97"
    },
    {
      "cell_type": "code",
      "execution_count": null,
      "metadata": {
        "id": "c480bc4f-f7d0-4f0e-9732-c398f0b3a0e1"
      },
      "outputs": [],
      "source": [
        "import time\n",
        "from sklearn.manifold import TSNE\n",
        "\n",
        "time_start = time.time()\n",
        "tsne = TSNE(n_components=2, verbose=1, perplexity=30, n_iter=3000)\n",
        "tsne_result = tsne.fit_transform(embeddings)\n",
        "print('t-SNE done! Time elapsed: {} seconds'.format(time.time()-time_start))"
      ],
      "id": "c480bc4f-f7d0-4f0e-9732-c398f0b3a0e1"
    },
    {
      "cell_type": "code",
      "execution_count": null,
      "metadata": {
        "id": "46e6ee91-4e7f-460a-bceb-8c4d164f3028"
      },
      "outputs": [],
      "source": [
        "import plotly.express as px\n",
        "\n",
        "label = []\n",
        "idx = 0\n",
        "id2label = dict()\n",
        "for identity in identities:\n",
        "  identity = int(identity)\n",
        "  if identity not in id2label:\n",
        "    id2label[identity] = idx\n",
        "    idx += 1\n",
        "  label.append(id2label[identity])\n",
        "\n",
        "df_subset = pd.DataFrame({'label': label})\n",
        "\n",
        "df_subset['tsne-2d-one'] = tsne_result[:,0]\n",
        "df_subset['tsne-2d-two'] = tsne_result[:,1]\n",
        "\n",
        "fig = px.scatter(df_subset, x=\"tsne-2d-one\", y=\"tsne-2d-two\", color=\"label\", height=1000, width=1000)\n",
        "fig.update_layout(margin=dict(l=0, r=0, b=0, t=0))\n",
        "fig.show()"
      ],
      "id": "46e6ee91-4e7f-460a-bceb-8c4d164f3028"
    },
    {
      "cell_type": "code",
      "execution_count": null,
      "metadata": {
        "id": "5EBpPGN6se-8"
      },
      "outputs": [],
      "source": [
        "import time\n",
        "from sklearn.manifold import TSNE\n",
        "\n",
        "time_start = time.time()\n",
        "tsne = TSNE(n_components=3, verbose=1, perplexity=30, n_iter=3000)\n",
        "tsne_result = tsne.fit_transform(embeddings)\n",
        "print('t-SNE done! Time elapsed: {} seconds'.format(time.time()-time_start))"
      ],
      "id": "5EBpPGN6se-8"
    },
    {
      "cell_type": "code",
      "execution_count": null,
      "metadata": {
        "id": "864b3704-abef-4087-ae9b-6bbc945da6cf"
      },
      "outputs": [],
      "source": [
        "import plotly.express as px\n",
        "\n",
        "label = []\n",
        "idx = 0\n",
        "id2label = dict()\n",
        "for identity in identities:\n",
        "  identity = int(identity)\n",
        "  if identity not in id2label:\n",
        "    id2label[identity] = idx\n",
        "    idx += 1\n",
        "  label.append(id2label[identity])\n",
        "\n",
        "df_subset = pd.DataFrame({'label': label})\n",
        "\n",
        "df_subset['tsne-3d-one'] = tsne_result[:,0]\n",
        "df_subset['tsne-3d-two'] = tsne_result[:,1]\n",
        "df_subset['tsne-3d-three'] = tsne_result[:,2]\n",
        "\n",
        "fig = px.scatter_3d(df_subset, x=\"tsne-3d-one\", y=\"tsne-3d-two\", z=\"tsne-3d-three\", color=\"label\")\n",
        "fig.update_layout(margin=dict(l=0, r=0, b=0, t=0))\n",
        "fig.show()"
      ],
      "id": "864b3704-abef-4087-ae9b-6bbc945da6cf"
    },
    {
      "cell_type": "markdown",
      "metadata": {
        "id": "eLQSUjfZa_FF"
      },
      "source": [
        "## 2.10 (TODO) Embedding comparison"
      ],
      "id": "eLQSUjfZa_FF"
    },
    {
      "cell_type": "markdown",
      "metadata": {
        "id": "QH6ZtmGgbMlD"
      },
      "source": [
        "TODO 13: Compare the visualization of the triplet network to the siamese network. Which one is better and why?\n",
        "\n",
        "Answer here:\n"
      ],
      "id": "QH6ZtmGgbMlD"
    },
    {
      "cell_type": "markdown",
      "metadata": {
        "id": "dEpbSYcAlZ5y"
      },
      "source": [
        "## (Optional) Try other tricks to get higher quality of face embeddings such as\n",
        "1. GeM Pooling (ref: https://amaarora.github.io/2020/08/30/gempool.html)\n",
        "2. Arcface (ref: https://arxiv.org/abs/1801.07698)\n",
        "3. Hard negative mining (ref: https://omoindrot.github.io/triplet-loss)\n",
        "4. Semi-hard mining\n",
        "\n",
        "and plot t-SNE to compare with vanilla triplet loss"
      ],
      "id": "dEpbSYcAlZ5y"
    },
    {
      "cell_type": "markdown",
      "metadata": {
        "id": "jh3vZtquxqQj"
      },
      "source": [
        "# Part 3 : Face recognition using InfoNCE loss\n"
      ],
      "id": "jh3vZtquxqQj"
    },
    {
      "cell_type": "markdown",
      "source": [
        "\n",
        "\n",
        "In contrast to the contrastive and triplet loss that only pulls an image pair of the same identity to come closer and push a different one away, some alternative approaches, such as the N-pair (ref: [paper](https://papers.nips.cc/paper_files/paper/2016/file/6b180037abbebea991d8b1232f8a8ca9-Paper.pdf)) and InfoNCE (ref: [paper](https://arxiv.org/pdf/1807.03748v2.pdf)) loss, take multiple positive images or/and multiple negative images into consideration. In this part, you are going to implement a variant of the InfoNCE loss where multiple positive and negative images are simutaneously utilized during the learning process. Moreover, the loss function implemented in this homework also adopts temperature scaling, a concept widely applied in many state-of-the-art self-supervised learning such as SimCLR (ref: [paper](https://arxiv.org/abs/2002.05709)), instead of the margin used in triplet and vanilla contrastive loss.\n",
        "\n"
      ],
      "metadata": {
        "id": "PFP9cW8_REq5"
      },
      "id": "PFP9cW8_REq5"
    },
    {
      "cell_type": "markdown",
      "metadata": {
        "id": "Zya4zPzKxzOf"
      },
      "source": [
        "## 3.1 (TODO) Dataset and DataLoader"
      ],
      "id": "Zya4zPzKxzOf"
    },
    {
      "cell_type": "markdown",
      "source": [
        "In this section, you are going to implement a dataloader for the combined loss.\n",
        "The dataloader should return the tuple `(anchor_img, pos_imgs, neg_imgs, anchor_label, pos_labels, neg_labels)`.\n",
        "\n",
        "- The positive image must have the same identity as the anchor image.\n",
        "- The negative image must have a different identity from the anchor image.\n",
        "\n",
        "this dataloader will sample both multiple positive images and multiple negative images per anchor image"
      ],
      "metadata": {
        "id": "6SJIwDvALVIO"
      },
      "id": "6SJIwDvALVIO"
    },
    {
      "cell_type": "code",
      "execution_count": null,
      "metadata": {
        "id": "0uiz8dSyxxty"
      },
      "outputs": [],
      "source": [
        "import copy\n",
        "\n",
        "class InfoNCEDataset(Dataset):\n",
        "    def __init__(self, root_dir, transform=None, num_pos=4, num_neg=8):\n",
        "      np.random.seed(123)\n",
        "      random.seed(123)\n",
        "      self.root_dir = root_dir\n",
        "      self.transform = transform\n",
        "      self.num_pos = num_pos\n",
        "      self.num_neg = num_neg\n",
        "\n",
        "      label_df = pd.read_csv(f'{root_dir}/label_df.csv')\n",
        "      label_df = label_df.groupby('identity')['filename'].apply(list).reset_index().rename({'filename': 'filenames'}, axis=1)\n",
        "      self.images = []\n",
        "      self.labels = []\n",
        "      self.label2indices = dict()\n",
        "      self.load_images_to_memory_(label_df)\n",
        "\n",
        "    def load_images_to_memory_(self, label_df):\n",
        "      # load images and labels into memory\n",
        "      # We have to relabel from identities to 0,1,2,...,num_classes-1\n",
        "      # Relevant variables\n",
        "      # 1. `self.images` = PIL images  (Also convert it to RGB)\n",
        "      # 2. `self.label2indices` = the dictionary storing a label as a key and the indices of images as value\n",
        "      # 3. `self.labels` = labels of images (relabeled)\n",
        "      # Note: the index of images is from iterating over label_df\n",
        "      self.images = []\n",
        "      self.label2indices = defaultdict(list)\n",
        "      self.labels = []\n",
        "      img_idx = 0\n",
        "      label_idx = 0\n",
        "      identity2label = dict()\n",
        "      for idx in tqdm(range(len(label_df))):\n",
        "          row = label_df.iloc[idx]\n",
        "          identity, filenames = row['identity'], row['filenames']\n",
        "\n",
        "          if identity not in identity2label:\n",
        "            identity2label[identity] = label_idx\n",
        "            label_idx += 1\n",
        "\n",
        "          label = identity2label[identity]\n",
        "\n",
        "          for filename in filenames:\n",
        "              self.images.append(Image.open(f'{self.root_dir}/{filename}').convert('RGB'))\n",
        "              self.labels.append(label)\n",
        "              self.label2indices[label].append(img_idx)\n",
        "              img_idx += 1\n",
        "\n",
        "\n",
        "    def __len__(self):\n",
        "      return len(self.images)\n",
        "\n",
        "    def __getitem__(self, idx):\n",
        "      '''\n",
        "      sample images labels\n",
        "      [args]\n",
        "      - idx is an index of an image\n",
        "\n",
        "      [intermediate]\n",
        "      - anchor image is the image according to idx\n",
        "      - positive images (dim: [num_pos, num_feat]) is a list of image that has the same identity with the anchor image (no duplicated images in this list)\n",
        "      - negative images (dim: [num_neg, num_feat]) is a list of image that has the different identity with the anchor image (no duplicated images in this list)\n",
        "\n",
        "      [return]\n",
        "      - transformed_anchor_img is the transformed anchor image\n",
        "      - transformed_pos_imgs are the tensor of transformed positive images\n",
        "      - transformed_neg_img are the tensor of transformed negative images\n",
        "      - anchor_label is the label of the anchor image\n",
        "      - pos_labels are the list of positive labels\n",
        "      - neg_labels are the list of negative labels\n",
        "      '''\n",
        "\n",
        "      anchor_img = self.images[idx]\n",
        "      anchor_label = self.labels[idx]\n",
        "\n",
        "      # TODO 14: sample positive images corresponding with the identity of anchor image\n",
        "      ## condition:\n",
        "      ## - there is no duplicated positive images\n",
        "      ### Hint: Please use self.num_pos to determine the number of sampled positive images\n",
        "      pass\n",
        "\n",
        "      # TODO 15: sample negative images that their identities differs from the identity of anchor image\n",
        "      ## condition:\n",
        "      ## - the list of negative images can contain identical identities\n",
        "      ## - there is no duplicated negative images\n",
        "      ### Hint: Please use self.num_neg to determine the number of sampled negative images\n",
        "      pass\n",
        "\n",
        "\n",
        "      # TODO 16: utilize `self.transform' to convert anchor image, positive images, and negative images to tensors\n",
        "      # WARNING!: Don't forget to convert to be tensors\n",
        "      pass\n",
        "\n",
        "      return anchor_img, pos_imgs, neg_imgs, anchor_label, pos_labels, neg_labels\n"
      ],
      "id": "0uiz8dSyxxty"
    },
    {
      "cell_type": "code",
      "execution_count": null,
      "metadata": {
        "id": "PzN4g--cyeuI",
        "collapsed": true
      },
      "outputs": [],
      "source": [
        "image_size = 224\n",
        "train_transform = transforms.Compose([\n",
        "    transforms.Resize((256, 256)),\n",
        "    transforms.CenterCrop(image_size),\n",
        "    transforms.RandomHorizontalFlip(p=0.5),\n",
        "    transforms.ToTensor(),\n",
        "    transforms.Normalize(mean=[0.5319, 0.4399, 0.3929],\n",
        "                          std=[0.3076, 0.2898, 0.2907])\n",
        "])\n",
        "\n",
        "val_transform = transforms.Compose([\n",
        "    transforms.Resize((256, 256)),\n",
        "    transforms.CenterCrop(image_size),\n",
        "    transforms.ToTensor(),\n",
        "    transforms.Normalize(mean=[0.5319, 0.4399, 0.3929],\n",
        "                          std=[0.3076, 0.2898, 0.2907])\n",
        "])\n",
        "\n",
        "train_batch_size = 16\n",
        "val_batch_size = 16\n",
        "test_batch_size = 16\n",
        "\n",
        "# TODO 17: declare the datasets and the dataloaders\n",
        "train_infonce_dataset = None\n",
        "train_infonce_dataloader = None\n",
        "\n",
        "val_infonce_dataset = None\n",
        "val_infonce_dataloader = None\n",
        "\n",
        "test_infonce_dataset = None\n",
        "test_infonce_dataloader = None"
      ],
      "id": "PzN4g--cyeuI"
    },
    {
      "cell_type": "markdown",
      "metadata": {
        "id": "-O8ZGQOk2F-t"
      },
      "source": [
        "## 3.2 (TODO) Image encoder\n",
        "\n",
        "Image encoder consists of 3 modules\n",
        "1. Feature extractor (ResNet18) is for mapping an image to a feature map   \n",
        "2. Global pooling (Global average pooling or use flatten instead) is for converting a feature map to a feature vector\n",
        "3. Projection layer consists of 2 MLP layers to reduce dimension of feature vector together with a relu activation function at the middle of MLP layers\n",
        "\n",
        "**Note**\n",
        "1. ResNet18 can call via `torchvision` library (How to use torchvision: https://pytorch.org/vision/stable/models.html)\n",
        "2. ResNet18 we use will not load pretrained weights\n",
        "3. We will use ResNet18 only extracting feature maps.\n",
        "\n",
        "**Hint!**\n",
        "1. For global average pooling, read the documentation of `nn.AdaptiveAvgPool2d`\n",
        "\n",
        "\n",
        "Figure 8 Image Encoder\n",
        "\n",
        "![Screenshot from 2024-03-21 05-05-33.png](data:image/png;base64,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)"
      ],
      "id": "-O8ZGQOk2F-t"
    },
    {
      "cell_type": "code",
      "execution_count": null,
      "metadata": {
        "id": "37fD_JK3ygsp"
      },
      "outputs": [],
      "source": [
        "class ImageEncoder(nn.Module):\n",
        "  # TODO 18: implement the image encoder according to the above figure\n",
        "  def __init__(self):\n",
        "      super(ImageEncoder, self).__init__()\n",
        "      pass\n",
        "\n",
        "  def extract_feature(self, x):\n",
        "      pass\n",
        "      return output\n",
        "\n",
        "  def forward(self, input1, input2, input3):\n",
        "      pass\n",
        "      return output1, output2, output3"
      ],
      "id": "37fD_JK3ygsp"
    },
    {
      "cell_type": "markdown",
      "metadata": {
        "id": "IQ-LRIRg2o9w"
      },
      "source": [
        "## 3.3 (TODO) InfoNCE loss\n",
        "Information Noise Contrastive Estimation (InfoNCE) loss (ref: [blog](https://lilianweng.github.io/posts/2021-05-31-contrastive/), [paper](https://arxiv.org/pdf/1807.03748v2.pdf)) is a self-supervised training objective aiming to maximizes the agreement between positive samples and minimizes the agreement between negative samples in the learned representation space. Although primarily designed for self-supervised learning, it could also be used in supervised setting by utilizing information from the labeled data.\n",
        "\n",
        "When under self-supervision, images are sampled in batches, each of which is then augmented using two different augmentation policies. The contrastive loss is subsequently computed to maximize the similarity of the images of the same origin before augmentation while minimizing the similarity of the ones with different origins. In supervised learning, the objective maximizes the similarity of the images with the same identity (class) instead of origin. <b>In this part, we will train the InfoNCE loss under the supervised setting.</b>\n",
        "\n",
        "To put it simply, the InfoNCE loss revolves around three types of images:\n",
        "\n",
        "1. Anchor image: an initial image\n",
        "2. Positive images: the sampled images with the same identity as the anchor image\n",
        "3. Negative images: the sampled images whose identity differs from that of the anchor image\n",
        "\n",
        "The objective is to maximize the cosine similarity between groups 1 and 2 while pushing groups 1 and 3 away. Thus, the InfoNCE maximizes the following objective:\n",
        "\n",
        "\n",
        "\\begin{align}\n",
        "InfoNCE\\ Loss_i = \\frac{1}{B \\cdot P} \\sum_{i=1}^B \\sum_{p \\in {P(i)}}-log \\left( \\frac{e^{(cos(f_i, f_p) / \\tau)}}{(e^{cos(f_i, f_p) / \\tau)} + \\sum_{n \\in N(i)} e^{(cos(f_i, f_n) / \\tau)}} \\right)\n",
        "\\end{align}\n",
        "\n",
        "Notation\n",
        "- $B$ = batch size\n",
        "- $P$ = the number of positive images per anchor\n",
        "- $i$ = index of the anchor feature vector\n",
        "- $P(i)$ = the sampled positive feature vectors   \n",
        "- $N(i)$ = the sampled negative feature vectors\n",
        "- $cos(f_i, f_p)$ = cosine similarity between $f_i$ and $f_p$\n",
        "- $f_i$ = anchor feature vector\n",
        "- $f_p$ = positive feature vector\n",
        "- $f_n$ = negative feature vector\n",
        "- $\\tau$ = temperature (a scaling factor for increasing/reducing the magnitude of logits)\n",
        "\n",
        "**Hint** use `nn.CrossEntropy` to compute the exponential part  "
      ],
      "id": "IQ-LRIRg2o9w"
    },
    {
      "cell_type": "code",
      "execution_count": null,
      "metadata": {
        "id": "Pmh7HmEtygwD"
      },
      "outputs": [],
      "source": [
        "class InfoNCELoss(nn.Module):\n",
        "  # TODO 19: implement the InfoNCE loss\n",
        "  def __init__(self, device, temperature):\n",
        "    super(InfoNCELoss, self).__init__()\n",
        "    pass\n",
        "\n",
        "  def forward(self, anchor_feat, pos_feats, neg_feats):\n",
        "    pass"
      ],
      "id": "Pmh7HmEtygwD"
    },
    {
      "cell_type": "markdown",
      "metadata": {
        "id": "CmkS7OqfCDCp"
      },
      "source": [
        "## 3.4 (TODO) Initializing model, criterions, optimizers, hyparameters and scheduler"
      ],
      "id": "CmkS7OqfCDCp"
    },
    {
      "cell_type": "code",
      "execution_count": null,
      "metadata": {
        "id": "44Lny-RpygzK"
      },
      "outputs": [],
      "source": [
        "temperature = 0.2\n",
        "\n",
        "infonce_model = ImageEncoder()\n",
        "device = 'cuda' if torch.cuda.is_available() else 'cpu'\n",
        "train_infonce_criterion = InfoNCELoss(device, temperature)\n",
        "val_infonce_criterion = InfoNCELoss(device, temperature)\n",
        "\n",
        "infonce_optimizer = optim.Adam(infonce_model.parameters(), lr=5e-4)\n",
        "infonce_scheduler = optim.lr_scheduler.ReduceLROnPlateau(infonce_optimizer, 'min', patience=4, factor=0.1, min_lr=1e-8)"
      ],
      "id": "44Lny-RpygzK"
    },
    {
      "cell_type": "markdown",
      "metadata": {
        "id": "eYIIrhDFDKd8"
      },
      "source": [
        "## 3.5 (TODO) Training loop\n",
        "\n",
        "Figure 9  How to connect the InfoNCE loss\n",
        "\n",
        "![Screen Shot 2565-04-01 at 14.43.49-2.png](data:image/png;base64,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)"
      ],
      "id": "eYIIrhDFDKd8"
    },
    {
      "cell_type": "markdown",
      "metadata": {
        "id": "WmYd-UURDPs2"
      },
      "source": [
        "\n",
        "Fig 9 demonstrates how to connect multiple feature vectors to compute InfoNCE loss. The feature extractor shares all parameters between input images.  "
      ],
      "id": "WmYd-UURDPs2"
    },
    {
      "cell_type": "markdown",
      "source": [
        "\n",
        "The training procedure of a infonce network consists of the following steps:\n",
        "\n",
        "1. Foward pass `anchor_img`\n",
        "2. Foward pass `pos_imgs`\n",
        "3. Foward pass `neg_img`\n",
        "4. Calculate all pairs cosine similarities between `anchor_img` and `pos_imgs`.\n",
        "5. Calculate all pairs cosine similarities between `anchor_img` and `neg_imgs`.\n",
        "6. Compute InfoNCE loss and take an average over them\n",
        "7. Use the loss in step 6 to update the model\n",
        "8. Repeat step 1-8 till converged\n",
        "\n",
        "TODO 20: move training data to GPU memory, extract anchor, positive, negative features from images, and then use them to compute InfoNCE loss\n",
        "\n",
        "TODO 21: set zero gradients\n",
        "\n",
        "TODO 22 : back propagate at infonce network and step the optimizer\n",
        "\n",
        "TODO 23: move validation data to GPU memory, extract anchor, positive, negative features from images, and then use them to compute InfoNCE loss\n"
      ],
      "metadata": {
        "id": "4Qr_Hp69NeiV"
      },
      "id": "4Qr_Hp69NeiV"
    },
    {
      "cell_type": "code",
      "execution_count": null,
      "metadata": {
        "id": "m5OIdkT_yg1P"
      },
      "outputs": [],
      "source": [
        "num_epochs = 20\n",
        "device = \"cuda\" if torch.cuda.is_available() else \"cpu\"\n",
        "\n",
        "os.makedirs('weights', exist_ok=True)\n",
        "best_weights_path = 'weights/best_infonce_weights.pth'\n",
        "infonce_model.to(device)\n",
        "min_val_loss = float('inf')\n",
        "\n",
        "train_losses = []\n",
        "val_losses = []\n",
        "\n",
        "for epoch in tqdm(range(num_epochs)):\n",
        "    infonce_model.train()\n",
        "    total_train_loss = 0\n",
        "    for anchor_img, pos_imgs, neg_imgs, anchor_label, pos_labels, neg_labels in tqdm(train_infonce_dataloader):\n",
        "\n",
        "        # TODO 20: feed data to the infonce model and compute infonce loss\n",
        "        pass\n",
        "        total_train_loss += train_loss.item()\n",
        "\n",
        "        # TODO 21: set zero gradients\n",
        "        pass\n",
        "\n",
        "        # TODO 22 : back propagate at infonce network and step the optimizer\n",
        "        pass\n",
        "\n",
        "    current_train_loss = total_train_loss / len(train_infonce_dataloader)\n",
        "    train_losses.append(current_train_loss)\n",
        "\n",
        "    total_val_loss = 0\n",
        "    infonce_model.eval()\n",
        "\n",
        "    for val_anchor_img, val_pos_imgs, val_neg_imgs, _, _, _ in val_infonce_dataloader:\n",
        "      # TODO 23: feed data to the infonce model and compute infonce loss\n",
        "      pass\n",
        "\n",
        "      val_loss = val_infonce_loss\n",
        "      total_val_loss += val_loss.item()\n",
        "    current_val_loss = total_val_loss / len(val_infonce_dataloader)\n",
        "    val_losses.append(current_val_loss)\n",
        "\n",
        "    if current_val_loss < min_val_loss:\n",
        "        min_val_loss = current_val_loss\n",
        "        torch.save(infonce_model.state_dict(), best_weights_path)\n",
        "    print(f'Epoch {epoch+1} '\n",
        "      f'- Train loss = {current_train_loss:.4f} '\n",
        "      f'- Val loss = {current_val_loss:.4f} '\n",
        "      f'- best min_val_loss = {min_val_loss:.4f} '\n",
        "      f'- lr = {infonce_optimizer.param_groups[0][\"lr\"]:.8f}'\n",
        "    )\n",
        "    infonce_scheduler.step(current_val_loss)"
      ],
      "id": "m5OIdkT_yg1P"
    },
    {
      "cell_type": "markdown",
      "metadata": {
        "id": "9vrzZbNdFfab"
      },
      "source": [
        "## 3.6 Visualization\n",
        "\n",
        "The visualization below displays an anchor, positive, and negative image and their respective similarity."
      ],
      "id": "9vrzZbNdFfab"
    },
    {
      "cell_type": "code",
      "execution_count": null,
      "metadata": {
        "id": "8lWNMHuPFgJB"
      },
      "outputs": [],
      "source": [
        "# Showing images\n",
        "def imshow(img, text=None):\n",
        "    npimg = img.numpy()\n",
        "    plt.axis(\"off\")\n",
        "    if text:\n",
        "        plt.text(20, 8, text, style='italic',fontweight='bold',\n",
        "            bbox={'facecolor':'white', 'alpha':0.8, 'pad':10})\n",
        "\n",
        "    plt.imshow(np.transpose(npimg, (1, 2, 0)))\n",
        "    plt.show()\n",
        "\n",
        "best_weights_path = 'weights/best_infonce_weights.pth'\n",
        "infonce_model.to(device)\n",
        "infonce_model.load_state_dict(torch.load(best_weights_path))\n",
        "infonce_model.eval()\n",
        "\n",
        "test_anchor_imgs, batch_test_pos_imgs, batch_test_neg_imgs, test_anchor_ids, _, _ = next(iter(test_infonce_dataloader))\n",
        "\n",
        "test_pos_imgs = batch_test_pos_imgs[:, 0, :, :]\n",
        "test_neg_imgs = batch_test_neg_imgs[:, 0, :, :]\n",
        "\n",
        "test_anchor_imgs, test_pos_imgs, test_neg_imgs = test_anchor_imgs.to(device), test_pos_imgs.to(device), test_neg_imgs.to(device)\n",
        "with torch.no_grad():\n",
        "    test_anchor_feats = infonce_model.extract_feature(test_anchor_imgs)\n",
        "    test_pos_feats = infonce_model.extract_feature(test_pos_imgs)\n",
        "    test_neg_feats = infonce_model.extract_feature(test_neg_imgs)\n",
        "\n",
        "class UnNormalize(object):\n",
        "    def __init__(self, mean, std):\n",
        "        self.mean = mean\n",
        "        self.std = std\n",
        "\n",
        "    def __call__(self, tensor):\n",
        "        \"\"\"\n",
        "        Args:\n",
        "            tensor (Tensor): Tensor image of size (C, H, W) to be normalized.\n",
        "        Returns:\n",
        "            Tensor: Normalized image.\n",
        "        \"\"\"\n",
        "        for t, m, s in zip(tensor, self.mean, self.std):\n",
        "            t.mul_(s).add_(m)\n",
        "            # The normalize code -> t.sub_(m).div_(s)\n",
        "        return tensor\n",
        "\n",
        "unnormalizer = UnNormalize(mean=[0.5319, 0.4399, 0.3929],\n",
        "                          std=[0.3076, 0.2898, 0.2907])\n",
        "\n",
        "zip_test_data = zip(test_anchor_feats, test_pos_feats, test_neg_feats, test_anchor_imgs, test_pos_imgs, test_neg_imgs)\n",
        "for test_anchor_feat, test_pos_feat, test_neg_feat, test_anchor_img, test_pos_img, test_neg_img in zip_test_data:\n",
        "    test_anchor_img = unnormalizer(test_anchor_img.detach().cpu().unsqueeze(0))\n",
        "    test_pos_img = unnormalizer(test_pos_img.detach().cpu().unsqueeze(0))\n",
        "    test_neg_img = unnormalizer(test_neg_img.detach().cpu().unsqueeze(0))\n",
        "    concatenated = torch.cat((test_anchor_img, test_pos_img, test_neg_img), 0)\n",
        "    anc_pos_similarity = F.cosine_similarity(test_anchor_feat.unsqueeze(0), test_pos_feat.unsqueeze(0))\n",
        "    anc_neg_similarity = F.cosine_similarity(test_anchor_feat.unsqueeze(0), test_neg_feat.unsqueeze(0))\n",
        "    imshow(torchvision.utils.make_grid(concatenated), f'Anc-Pos similarity: {anc_pos_similarity.item():.4f}, Anc-Neg similarity: {anc_neg_similarity.item():.4f}')"
      ],
      "id": "8lWNMHuPFgJB"
    },
    {
      "cell_type": "markdown",
      "metadata": {
        "id": "bYqTUteIFqew"
      },
      "source": [
        "## 3.7 Plot loss history"
      ],
      "id": "bYqTUteIFqew"
    },
    {
      "cell_type": "code",
      "execution_count": null,
      "metadata": {
        "id": "Cgqlc5BNFc2m"
      },
      "outputs": [],
      "source": [
        "import matplotlib.pyplot as plt\n",
        "plt.plot(np.arange(1, len(train_losses)+1), train_losses, label='train loss')\n",
        "plt.plot(np.arange(1, len(val_losses)+1), val_losses, label='val loss')\n",
        "plt.legend()\n",
        "plt.title('Loss')\n",
        "plt.show()"
      ],
      "id": "Cgqlc5BNFc2m"
    },
    {
      "cell_type": "markdown",
      "metadata": {
        "id": "K_6kK_ZIF1TN"
      },
      "source": [
        "## 3.8 (TODO) Plot t-SNE\n",
        "\n",
        "This section is similar to section 1.8  \n",
        "\n",
        "**Instructions**\n",
        "\n",
        "TODO 24: Extract the feature vectors of the test set and store them as\n",
        "\n",
        "`embeddings`: torch.FloatTensor = feature vectors of all images in the test set\n",
        "\n",
        "`identities`: list or torch.Tensor or np.array = identities of all images in the test set\n",
        "\n",
        "**Hint**      \n",
        "Use `FaceDataset` that is imported at `Common Dataset` section\n",
        "\n",
        "**WARNING!!**\n",
        "Don't forget load its best weights and change to eval mode first"
      ],
      "id": "K_6kK_ZIF1TN"
    },
    {
      "cell_type": "code",
      "execution_count": null,
      "metadata": {
        "id": "Vj5eAf8VFc48"
      },
      "outputs": [],
      "source": [
        "test_batch_size = 32\n",
        "\n",
        "# TODO 24: Extract the feature vectors of the test set and store them as\n",
        "# `embeddings`: torch.FloatTensor = feature vectors of all images in the test set\n",
        "# `identities`: list or torch.Tensor or np.array = identities of all images in the test set\n",
        "# Hint      => Use `FaceDataset` that is imported at `Common Dataset` section\n",
        "# WARNING!! => Don't forget load its best weights and change to eval mode first\n",
        "embeddings = None\n",
        "identities = None"
      ],
      "id": "Vj5eAf8VFc48"
    },
    {
      "cell_type": "code",
      "execution_count": null,
      "metadata": {
        "id": "_O5mtkJ5F8M3"
      },
      "outputs": [],
      "source": [
        "import time\n",
        "from sklearn.manifold import TSNE\n",
        "\n",
        "time_start = time.time()\n",
        "tsne = TSNE(n_components=2, verbose=1, perplexity=30, n_iter=3000)\n",
        "tsne_result = tsne.fit_transform(embeddings)\n",
        "print('t-SNE done! Time elapsed: {} seconds'.format(time.time()-time_start))"
      ],
      "id": "_O5mtkJ5F8M3"
    },
    {
      "cell_type": "code",
      "execution_count": null,
      "metadata": {
        "id": "qpWpsfQXF8Oq"
      },
      "outputs": [],
      "source": [
        "import plotly.express as px\n",
        "\n",
        "label = []\n",
        "idx = 0\n",
        "id2label = dict()\n",
        "for identity in identities:\n",
        "  identity = int(identity)\n",
        "  if identity not in id2label:\n",
        "    id2label[identity] = idx\n",
        "    idx += 1\n",
        "  label.append(id2label[identity])\n",
        "\n",
        "df_subset = pd.DataFrame({'label': label})\n",
        "\n",
        "df_subset['tsne-2d-one'] = tsne_result[:,0]\n",
        "df_subset['tsne-2d-two'] = tsne_result[:,1]\n",
        "\n",
        "fig = px.scatter(df_subset, x=\"tsne-2d-one\", y=\"tsne-2d-two\", color=\"label\", height=1000, width=1000)\n",
        "fig.update_layout(margin=dict(l=0, r=0, b=0, t=0))\n",
        "fig.show()"
      ],
      "id": "qpWpsfQXF8Oq"
    },
    {
      "cell_type": "code",
      "execution_count": null,
      "metadata": {
        "id": "yXHGVgUlF8RA"
      },
      "outputs": [],
      "source": [
        "import time\n",
        "from sklearn.manifold import TSNE\n",
        "\n",
        "time_start = time.time()\n",
        "tsne = TSNE(n_components=3, verbose=1, perplexity=30, n_iter=3000)\n",
        "tsne_result = tsne.fit_transform(embeddings)\n",
        "print('t-SNE done! Time elapsed: {} seconds'.format(time.time()-time_start))"
      ],
      "id": "yXHGVgUlF8RA"
    },
    {
      "cell_type": "code",
      "execution_count": null,
      "metadata": {
        "id": "p5cls3TUF8T6"
      },
      "outputs": [],
      "source": [
        "import plotly.express as px\n",
        "\n",
        "label = []\n",
        "idx = 0\n",
        "id2label = dict()\n",
        "for identity in identities:\n",
        "  identity = int(identity)\n",
        "  if identity not in id2label:\n",
        "    id2label[identity] = idx\n",
        "    idx += 1\n",
        "  label.append(id2label[identity])\n",
        "\n",
        "df_subset = pd.DataFrame({'label': label})\n",
        "\n",
        "df_subset['tsne-3d-one'] = tsne_result[:,0]\n",
        "df_subset['tsne-3d-two'] = tsne_result[:,1]\n",
        "df_subset['tsne-3d-three'] = tsne_result[:,2]\n",
        "\n",
        "fig = px.scatter_3d(df_subset, x=\"tsne-3d-one\", y=\"tsne-3d-two\", z=\"tsne-3d-three\", color=\"label\")\n",
        "fig.update_layout(margin=dict(l=0, r=0, b=0, t=0))\n",
        "fig.show()"
      ],
      "id": "p5cls3TUF8T6"
    },
    {
      "cell_type": "markdown",
      "source": [
        "## 3.9 (TODO) Please analyze and compare between the t-SNE of triplet network the t-SNE of InfoNCE network. Why are those t-SNEs not in the same way?  "
      ],
      "metadata": {
        "id": "0NVo4-T37KCq"
      },
      "id": "0NVo4-T37KCq"
    },
    {
      "cell_type": "markdown",
      "source": [
        "TODO 25: Answer the above question  \n",
        "\n",
        "**Hint** The reason is about our dataset\n",
        "\n",
        "Answer:"
      ],
      "metadata": {
        "id": "rqK32Tgo7oga"
      },
      "id": "rqK32Tgo7oga"
    },
    {
      "cell_type": "markdown",
      "source": [
        "# Part 4 : Face verification evaluation\n",
        "\n",
        "\n",
        "\n",
        "In HW3, we use the ROC curve to measure the performance of the face verification task. Similarly, we will use this metric to measure the performance of our NN.\n",
        "\n",
        "TODO 26: Use the Siamese network, network trained using triplet loss, and network trained using InfoNCE loss to extract the image features from the test set.\n"
      ],
      "metadata": {
        "id": "V7CaIXcjrki1"
      },
      "id": "V7CaIXcjrki1"
    },
    {
      "cell_type": "code",
      "execution_count": null,
      "metadata": {
        "id": "i9-6LoLdeJb7"
      },
      "outputs": [],
      "source": [
        "val_transform = transforms.Compose([\n",
        "    transforms.Resize((256, 256)),\n",
        "    transforms.CenterCrop(img_size),\n",
        "    transforms.ToTensor(),\n",
        "    transforms.Normalize(mean=[0.5319, 0.4399, 0.3929],\n",
        "                          std=[0.3076, 0.2898, 0.2907])\n",
        "])\n",
        "\n",
        "\n",
        "test_siamese_dataset = SiameseDataset(root_dir='large_prepared_data/test', transform=val_transform)\n",
        "test_siamese_dataloader = DataLoader(test_siamese_dataset, batch_size=test_batch_size, shuffle=False, num_workers=2)\n",
        "\n",
        "siamese_embeddings1 = []\n",
        "siamese_embeddings2 = []\n",
        "triplet_embeddings1 = []\n",
        "triplet_embeddings2 = []\n",
        "infonce_embeddings1 = []\n",
        "infonce_embeddings2 = []\n",
        "labels = []\n",
        "\n",
        "device = 'cuda' if torch.cuda.is_available() else 'cpu'\n",
        "\n",
        "siamese_model.to(device)\n",
        "triplet_model.to(device)\n",
        "infonce_model.to(device)\n",
        "\n",
        "siamese_model.load_state_dict(torch.load('weights/best_siamese_weights.pth'))\n",
        "triplet_model.load_state_dict(torch.load('weights/best_triplet_weights.pth'))\n",
        "infonce_model.load_state_dict(torch.load('weights/best_infonce_weights.pth'))\n",
        "\n",
        "siamese_model.eval()\n",
        "triplet_model.eval()\n",
        "infonce_model.eval()\n",
        "\n",
        "for batch_img1, batch_img2, batch_label in tqdm(test_siamese_dataloader):\n",
        "  batch_img1, batch_img2, batch_label = batch_img1.to(device), batch_img2.to(device), batch_label.to(device)\n",
        "  with torch.no_grad():\n",
        "    # TODO 26: extract features with both siamese network, triplet network, infonce network\n",
        "    # and keep embeddings in provided lists according to variable names\n",
        "    siamese_embeddings1.append(None)\n",
        "    siamese_embeddings2.append(None)\n",
        "    triplet_embeddings1.append(None)\n",
        "    triplet_embeddings2.append(None)\n",
        "    infonce_embeddings1.append(None)\n",
        "    infonce_embeddings2.append(None)\n",
        "\n",
        "  labels.append(batch_label)\n",
        "\n",
        "siamese_embeddings1 = torch.cat(siamese_embeddings1)\n",
        "siamese_embeddings2 = torch.cat(siamese_embeddings2)\n",
        "triplet_embeddings1 = torch.cat(triplet_embeddings1)\n",
        "triplet_embeddings2 = torch.cat(triplet_embeddings2)\n",
        "infonce_embeddings1 = torch.cat(infonce_embeddings1)\n",
        "infonce_embeddings2 = torch.cat(infonce_embeddings2)\n",
        "labels = torch.cat(labels)\n"
      ],
      "id": "i9-6LoLdeJb7"
    },
    {
      "cell_type": "markdown",
      "source": [
        "TODO 27: Measure the similarity score between the two feature vectors with cosine similarity.\n",
        "\n",
        "**HINT**\n",
        "You can use `nn.CosineSimilarity`\n",
        "(ref: https://pytorch.org/docs/stable/generated/torch.nn.CosineSimilarity.html).\n"
      ],
      "metadata": {
        "id": "CeGFihOVKwcO"
      },
      "id": "CeGFihOVKwcO"
    },
    {
      "cell_type": "code",
      "source": [
        "def compute_pairs_cosine_sim(input1, input2):\n",
        "  # TODO 27: implement cosine similarity function that can compute multiple pairs at the same time\n",
        "  pass\n",
        "\n",
        "siamese_scores = compute_pairs_cosine_sim(siamese_embeddings1, siamese_embeddings2)\n",
        "triplet_scores = compute_pairs_cosine_sim(triplet_embeddings1, triplet_embeddings2)\n",
        "infonce_scores = compute_pairs_cosine_sim(infonce_embeddings1, infonce_embeddings2)"
      ],
      "metadata": {
        "id": "-X9aTUD-rpH1"
      },
      "id": "-X9aTUD-rpH1",
      "execution_count": null,
      "outputs": []
    },
    {
      "cell_type": "markdown",
      "source": [
        "TODO 28\n",
        "\n",
        "Plot a ROC curve to compare the performance siamese, triplet, infonce networks. Which one is better and why?"
      ],
      "metadata": {
        "id": "m218vHRUK4zL"
      },
      "id": "m218vHRUK4zL"
    },
    {
      "cell_type": "code",
      "source": [
        "import matplotlib.pyplot as plt\n",
        "# TODO 28: calculate true positive rate and false positive rate\n",
        "# and plot both the ROC curve of siamese network and the ROC curve of triplet network\n",
        "# together with AUC score\n"
      ],
      "metadata": {
        "id": "Xw6jNUhzLDGv"
      },
      "id": "Xw6jNUhzLDGv",
      "execution_count": null,
      "outputs": []
    }
  ],
  "metadata": {
    "accelerator": "GPU",
    "colab": {
      "provenance": [],
      "toc_visible": true
    },
    "kernelspec": {
      "display_name": "Python 3 (ipykernel)",
      "language": "python",
      "name": "python3"
    },
    "language_info": {
      "codemirror_mode": {
        "name": "ipython",
        "version": 3
      },
      "file_extension": ".py",
      "mimetype": "text/x-python",
      "name": "python",
      "nbconvert_exporter": "python",
      "pygments_lexer": "ipython3",
      "version": "3.9.6"
    }
  },
  "nbformat": 4,
  "nbformat_minor": 5
}
